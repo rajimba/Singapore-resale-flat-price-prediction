{
 "cells": [
  {
   "cell_type": "code",
   "execution_count": 1368,
   "id": "798b97f0-a80e-41ad-9090-6acb5e8ea598",
   "metadata": {},
   "outputs": [],
   "source": [
    "import pandas as pd\n",
    "import numpy as np\n",
    "import datetime\n",
    "from scipy.stats import skew\n",
    "import sklearn\n",
    "from sklearn.ensemble import IsolationForest\n",
    "import seaborn as sns\n",
    "import matplotlib.pyplot as plt\n",
    "\n",
    "import warnings \n",
    "warnings.filterwarnings('ignore')\n",
    "\n",
    "from sklearn.model_selection import train_test_split\n",
    "from sklearn.linear_model import LinearRegression\n",
    "from sklearn.tree import DecisionTreeRegressor\n",
    "from sklearn.ensemble import RandomForestRegressor\n",
    "from sklearn.metrics import mean_squared_error, r2_score\n",
    "import math\n",
    "#Accessing performance using Cross Validation\n",
    "from sklearn.model_selection import cross_validate\n",
    "from sklearn.preprocessing import StandardScaler\n",
    "from sklearn.linear_model import Lasso, Ridge\n",
    "from sklearn import metrics\n",
    "import pickle"
   ]
  },
  {
   "cell_type": "code",
   "execution_count": 1369,
   "id": "efaa6767-5900-4884-9889-1c96fb2b8ef6",
   "metadata": {},
   "outputs": [],
   "source": [
    "df_1= pd.read_csv('Resale Flat Prices (Based on Approval Date), 1990 - 1999.csv')"
   ]
  },
  {
   "cell_type": "code",
   "execution_count": 1370,
   "id": "3a06c7a7-607f-4288-9b36-cfa5abe2b7a3",
   "metadata": {},
   "outputs": [
    {
     "data": {
      "text/html": [
       "<div>\n",
       "<style scoped>\n",
       "    .dataframe tbody tr th:only-of-type {\n",
       "        vertical-align: middle;\n",
       "    }\n",
       "\n",
       "    .dataframe tbody tr th {\n",
       "        vertical-align: top;\n",
       "    }\n",
       "\n",
       "    .dataframe thead th {\n",
       "        text-align: right;\n",
       "    }\n",
       "</style>\n",
       "<table border=\"1\" class=\"dataframe\">\n",
       "  <thead>\n",
       "    <tr style=\"text-align: right;\">\n",
       "      <th></th>\n",
       "      <th>month</th>\n",
       "      <th>town</th>\n",
       "      <th>flat_type</th>\n",
       "      <th>block</th>\n",
       "      <th>street_name</th>\n",
       "      <th>storey_range</th>\n",
       "      <th>floor_area_sqm</th>\n",
       "      <th>flat_model</th>\n",
       "      <th>lease_commence_date</th>\n",
       "      <th>resale_price</th>\n",
       "    </tr>\n",
       "  </thead>\n",
       "  <tbody>\n",
       "    <tr>\n",
       "      <th>0</th>\n",
       "      <td>1990-01</td>\n",
       "      <td>ANG MO KIO</td>\n",
       "      <td>1 ROOM</td>\n",
       "      <td>309</td>\n",
       "      <td>ANG MO KIO AVE 1</td>\n",
       "      <td>10 TO 12</td>\n",
       "      <td>31.0</td>\n",
       "      <td>IMPROVED</td>\n",
       "      <td>1977</td>\n",
       "      <td>9000</td>\n",
       "    </tr>\n",
       "    <tr>\n",
       "      <th>1</th>\n",
       "      <td>1990-01</td>\n",
       "      <td>ANG MO KIO</td>\n",
       "      <td>1 ROOM</td>\n",
       "      <td>309</td>\n",
       "      <td>ANG MO KIO AVE 1</td>\n",
       "      <td>04 TO 06</td>\n",
       "      <td>31.0</td>\n",
       "      <td>IMPROVED</td>\n",
       "      <td>1977</td>\n",
       "      <td>6000</td>\n",
       "    </tr>\n",
       "    <tr>\n",
       "      <th>2</th>\n",
       "      <td>1990-01</td>\n",
       "      <td>ANG MO KIO</td>\n",
       "      <td>1 ROOM</td>\n",
       "      <td>309</td>\n",
       "      <td>ANG MO KIO AVE 1</td>\n",
       "      <td>10 TO 12</td>\n",
       "      <td>31.0</td>\n",
       "      <td>IMPROVED</td>\n",
       "      <td>1977</td>\n",
       "      <td>8000</td>\n",
       "    </tr>\n",
       "    <tr>\n",
       "      <th>3</th>\n",
       "      <td>1990-01</td>\n",
       "      <td>ANG MO KIO</td>\n",
       "      <td>1 ROOM</td>\n",
       "      <td>309</td>\n",
       "      <td>ANG MO KIO AVE 1</td>\n",
       "      <td>07 TO 09</td>\n",
       "      <td>31.0</td>\n",
       "      <td>IMPROVED</td>\n",
       "      <td>1977</td>\n",
       "      <td>6000</td>\n",
       "    </tr>\n",
       "    <tr>\n",
       "      <th>4</th>\n",
       "      <td>1990-01</td>\n",
       "      <td>ANG MO KIO</td>\n",
       "      <td>3 ROOM</td>\n",
       "      <td>216</td>\n",
       "      <td>ANG MO KIO AVE 1</td>\n",
       "      <td>04 TO 06</td>\n",
       "      <td>73.0</td>\n",
       "      <td>NEW GENERATION</td>\n",
       "      <td>1976</td>\n",
       "      <td>47200</td>\n",
       "    </tr>\n",
       "  </tbody>\n",
       "</table>\n",
       "</div>"
      ],
      "text/plain": [
       "     month        town flat_type block       street_name storey_range  \\\n",
       "0  1990-01  ANG MO KIO    1 ROOM   309  ANG MO KIO AVE 1     10 TO 12   \n",
       "1  1990-01  ANG MO KIO    1 ROOM   309  ANG MO KIO AVE 1     04 TO 06   \n",
       "2  1990-01  ANG MO KIO    1 ROOM   309  ANG MO KIO AVE 1     10 TO 12   \n",
       "3  1990-01  ANG MO KIO    1 ROOM   309  ANG MO KIO AVE 1     07 TO 09   \n",
       "4  1990-01  ANG MO KIO    3 ROOM   216  ANG MO KIO AVE 1     04 TO 06   \n",
       "\n",
       "   floor_area_sqm      flat_model  lease_commence_date  resale_price  \n",
       "0            31.0        IMPROVED                 1977          9000  \n",
       "1            31.0        IMPROVED                 1977          6000  \n",
       "2            31.0        IMPROVED                 1977          8000  \n",
       "3            31.0        IMPROVED                 1977          6000  \n",
       "4            73.0  NEW GENERATION                 1976         47200  "
      ]
     },
     "execution_count": 1370,
     "metadata": {},
     "output_type": "execute_result"
    }
   ],
   "source": [
    "df_1.head()"
   ]
  },
  {
   "cell_type": "code",
   "execution_count": 1371,
   "id": "df734352-6dd3-4481-a048-d2a3b518deab",
   "metadata": {},
   "outputs": [],
   "source": [
    "df_2= pd.read_csv('Resale Flat Prices (Based on Approval Date), 2000 - Feb 2012.csv')\n"
   ]
  },
  {
   "cell_type": "code",
   "execution_count": 1372,
   "id": "cf444682-83da-407d-a0e7-4009382264a5",
   "metadata": {},
   "outputs": [
    {
     "data": {
      "text/html": [
       "<div>\n",
       "<style scoped>\n",
       "    .dataframe tbody tr th:only-of-type {\n",
       "        vertical-align: middle;\n",
       "    }\n",
       "\n",
       "    .dataframe tbody tr th {\n",
       "        vertical-align: top;\n",
       "    }\n",
       "\n",
       "    .dataframe thead th {\n",
       "        text-align: right;\n",
       "    }\n",
       "</style>\n",
       "<table border=\"1\" class=\"dataframe\">\n",
       "  <thead>\n",
       "    <tr style=\"text-align: right;\">\n",
       "      <th></th>\n",
       "      <th>month</th>\n",
       "      <th>town</th>\n",
       "      <th>flat_type</th>\n",
       "      <th>block</th>\n",
       "      <th>street_name</th>\n",
       "      <th>storey_range</th>\n",
       "      <th>floor_area_sqm</th>\n",
       "      <th>flat_model</th>\n",
       "      <th>lease_commence_date</th>\n",
       "      <th>resale_price</th>\n",
       "    </tr>\n",
       "  </thead>\n",
       "  <tbody>\n",
       "    <tr>\n",
       "      <th>0</th>\n",
       "      <td>2000-01</td>\n",
       "      <td>ANG MO KIO</td>\n",
       "      <td>3 ROOM</td>\n",
       "      <td>170</td>\n",
       "      <td>ANG MO KIO AVE 4</td>\n",
       "      <td>07 TO 09</td>\n",
       "      <td>69.0</td>\n",
       "      <td>Improved</td>\n",
       "      <td>1986</td>\n",
       "      <td>147000.0</td>\n",
       "    </tr>\n",
       "    <tr>\n",
       "      <th>1</th>\n",
       "      <td>2000-01</td>\n",
       "      <td>ANG MO KIO</td>\n",
       "      <td>3 ROOM</td>\n",
       "      <td>174</td>\n",
       "      <td>ANG MO KIO AVE 4</td>\n",
       "      <td>04 TO 06</td>\n",
       "      <td>61.0</td>\n",
       "      <td>Improved</td>\n",
       "      <td>1986</td>\n",
       "      <td>144000.0</td>\n",
       "    </tr>\n",
       "    <tr>\n",
       "      <th>2</th>\n",
       "      <td>2000-01</td>\n",
       "      <td>ANG MO KIO</td>\n",
       "      <td>3 ROOM</td>\n",
       "      <td>216</td>\n",
       "      <td>ANG MO KIO AVE 1</td>\n",
       "      <td>07 TO 09</td>\n",
       "      <td>73.0</td>\n",
       "      <td>New Generation</td>\n",
       "      <td>1976</td>\n",
       "      <td>159000.0</td>\n",
       "    </tr>\n",
       "    <tr>\n",
       "      <th>3</th>\n",
       "      <td>2000-01</td>\n",
       "      <td>ANG MO KIO</td>\n",
       "      <td>3 ROOM</td>\n",
       "      <td>215</td>\n",
       "      <td>ANG MO KIO AVE 1</td>\n",
       "      <td>07 TO 09</td>\n",
       "      <td>73.0</td>\n",
       "      <td>New Generation</td>\n",
       "      <td>1976</td>\n",
       "      <td>167000.0</td>\n",
       "    </tr>\n",
       "    <tr>\n",
       "      <th>4</th>\n",
       "      <td>2000-01</td>\n",
       "      <td>ANG MO KIO</td>\n",
       "      <td>3 ROOM</td>\n",
       "      <td>218</td>\n",
       "      <td>ANG MO KIO AVE 1</td>\n",
       "      <td>07 TO 09</td>\n",
       "      <td>67.0</td>\n",
       "      <td>New Generation</td>\n",
       "      <td>1976</td>\n",
       "      <td>163000.0</td>\n",
       "    </tr>\n",
       "  </tbody>\n",
       "</table>\n",
       "</div>"
      ],
      "text/plain": [
       "     month        town flat_type block       street_name storey_range  \\\n",
       "0  2000-01  ANG MO KIO    3 ROOM   170  ANG MO KIO AVE 4     07 TO 09   \n",
       "1  2000-01  ANG MO KIO    3 ROOM   174  ANG MO KIO AVE 4     04 TO 06   \n",
       "2  2000-01  ANG MO KIO    3 ROOM   216  ANG MO KIO AVE 1     07 TO 09   \n",
       "3  2000-01  ANG MO KIO    3 ROOM   215  ANG MO KIO AVE 1     07 TO 09   \n",
       "4  2000-01  ANG MO KIO    3 ROOM   218  ANG MO KIO AVE 1     07 TO 09   \n",
       "\n",
       "   floor_area_sqm      flat_model  lease_commence_date  resale_price  \n",
       "0            69.0        Improved                 1986      147000.0  \n",
       "1            61.0        Improved                 1986      144000.0  \n",
       "2            73.0  New Generation                 1976      159000.0  \n",
       "3            73.0  New Generation                 1976      167000.0  \n",
       "4            67.0  New Generation                 1976      163000.0  "
      ]
     },
     "execution_count": 1372,
     "metadata": {},
     "output_type": "execute_result"
    }
   ],
   "source": [
    "df_2.head()"
   ]
  },
  {
   "cell_type": "code",
   "execution_count": 1373,
   "id": "48580520-c08d-462f-81be-10f8e05d2100",
   "metadata": {},
   "outputs": [],
   "source": [
    "df_3= pd.read_csv('Resale Flat Prices (Based on Registration Date), From Mar 2012 to Dec 2014.csv')\n",
    "df_4= pd.read_csv('Resale Flat Prices (Based on Registration Date), From Jan 2015 to Dec 2016.csv')\n",
    "df_5= pd.read_csv('Resale flat prices based on registration date from Jan-2017 onwards.csv')\n"
   ]
  },
  {
   "cell_type": "code",
   "execution_count": 1374,
   "id": "9b3e2e0c-bc03-424a-987e-c04098c3b97f",
   "metadata": {},
   "outputs": [
    {
     "data": {
      "text/html": [
       "<div>\n",
       "<style scoped>\n",
       "    .dataframe tbody tr th:only-of-type {\n",
       "        vertical-align: middle;\n",
       "    }\n",
       "\n",
       "    .dataframe tbody tr th {\n",
       "        vertical-align: top;\n",
       "    }\n",
       "\n",
       "    .dataframe thead th {\n",
       "        text-align: right;\n",
       "    }\n",
       "</style>\n",
       "<table border=\"1\" class=\"dataframe\">\n",
       "  <thead>\n",
       "    <tr style=\"text-align: right;\">\n",
       "      <th></th>\n",
       "      <th>month</th>\n",
       "      <th>town</th>\n",
       "      <th>flat_type</th>\n",
       "      <th>block</th>\n",
       "      <th>street_name</th>\n",
       "      <th>storey_range</th>\n",
       "      <th>floor_area_sqm</th>\n",
       "      <th>flat_model</th>\n",
       "      <th>lease_commence_date</th>\n",
       "      <th>resale_price</th>\n",
       "    </tr>\n",
       "  </thead>\n",
       "  <tbody>\n",
       "    <tr>\n",
       "      <th>0</th>\n",
       "      <td>2012-03</td>\n",
       "      <td>ANG MO KIO</td>\n",
       "      <td>2 ROOM</td>\n",
       "      <td>172</td>\n",
       "      <td>ANG MO KIO AVE 4</td>\n",
       "      <td>06 TO 10</td>\n",
       "      <td>45.0</td>\n",
       "      <td>Improved</td>\n",
       "      <td>1986</td>\n",
       "      <td>250000.0</td>\n",
       "    </tr>\n",
       "    <tr>\n",
       "      <th>1</th>\n",
       "      <td>2012-03</td>\n",
       "      <td>ANG MO KIO</td>\n",
       "      <td>2 ROOM</td>\n",
       "      <td>510</td>\n",
       "      <td>ANG MO KIO AVE 8</td>\n",
       "      <td>01 TO 05</td>\n",
       "      <td>44.0</td>\n",
       "      <td>Improved</td>\n",
       "      <td>1980</td>\n",
       "      <td>265000.0</td>\n",
       "    </tr>\n",
       "    <tr>\n",
       "      <th>2</th>\n",
       "      <td>2012-03</td>\n",
       "      <td>ANG MO KIO</td>\n",
       "      <td>3 ROOM</td>\n",
       "      <td>610</td>\n",
       "      <td>ANG MO KIO AVE 4</td>\n",
       "      <td>06 TO 10</td>\n",
       "      <td>68.0</td>\n",
       "      <td>New Generation</td>\n",
       "      <td>1980</td>\n",
       "      <td>315000.0</td>\n",
       "    </tr>\n",
       "    <tr>\n",
       "      <th>3</th>\n",
       "      <td>2012-03</td>\n",
       "      <td>ANG MO KIO</td>\n",
       "      <td>3 ROOM</td>\n",
       "      <td>474</td>\n",
       "      <td>ANG MO KIO AVE 10</td>\n",
       "      <td>01 TO 05</td>\n",
       "      <td>67.0</td>\n",
       "      <td>New Generation</td>\n",
       "      <td>1984</td>\n",
       "      <td>320000.0</td>\n",
       "    </tr>\n",
       "    <tr>\n",
       "      <th>4</th>\n",
       "      <td>2012-03</td>\n",
       "      <td>ANG MO KIO</td>\n",
       "      <td>3 ROOM</td>\n",
       "      <td>604</td>\n",
       "      <td>ANG MO KIO AVE 5</td>\n",
       "      <td>06 TO 10</td>\n",
       "      <td>67.0</td>\n",
       "      <td>New Generation</td>\n",
       "      <td>1980</td>\n",
       "      <td>321000.0</td>\n",
       "    </tr>\n",
       "  </tbody>\n",
       "</table>\n",
       "</div>"
      ],
      "text/plain": [
       "     month        town flat_type block        street_name storey_range  \\\n",
       "0  2012-03  ANG MO KIO    2 ROOM   172   ANG MO KIO AVE 4     06 TO 10   \n",
       "1  2012-03  ANG MO KIO    2 ROOM   510   ANG MO KIO AVE 8     01 TO 05   \n",
       "2  2012-03  ANG MO KIO    3 ROOM   610   ANG MO KIO AVE 4     06 TO 10   \n",
       "3  2012-03  ANG MO KIO    3 ROOM   474  ANG MO KIO AVE 10     01 TO 05   \n",
       "4  2012-03  ANG MO KIO    3 ROOM   604   ANG MO KIO AVE 5     06 TO 10   \n",
       "\n",
       "   floor_area_sqm      flat_model  lease_commence_date  resale_price  \n",
       "0            45.0        Improved                 1986      250000.0  \n",
       "1            44.0        Improved                 1980      265000.0  \n",
       "2            68.0  New Generation                 1980      315000.0  \n",
       "3            67.0  New Generation                 1984      320000.0  \n",
       "4            67.0  New Generation                 1980      321000.0  "
      ]
     },
     "execution_count": 1374,
     "metadata": {},
     "output_type": "execute_result"
    }
   ],
   "source": [
    "df_3.head()"
   ]
  },
  {
   "cell_type": "code",
   "execution_count": 1375,
   "id": "84167eb5-e35f-4a55-8bd8-703714da95b2",
   "metadata": {},
   "outputs": [
    {
     "data": {
      "text/html": [
       "<div>\n",
       "<style scoped>\n",
       "    .dataframe tbody tr th:only-of-type {\n",
       "        vertical-align: middle;\n",
       "    }\n",
       "\n",
       "    .dataframe tbody tr th {\n",
       "        vertical-align: top;\n",
       "    }\n",
       "\n",
       "    .dataframe thead th {\n",
       "        text-align: right;\n",
       "    }\n",
       "</style>\n",
       "<table border=\"1\" class=\"dataframe\">\n",
       "  <thead>\n",
       "    <tr style=\"text-align: right;\">\n",
       "      <th></th>\n",
       "      <th>month</th>\n",
       "      <th>town</th>\n",
       "      <th>flat_type</th>\n",
       "      <th>block</th>\n",
       "      <th>street_name</th>\n",
       "      <th>storey_range</th>\n",
       "      <th>floor_area_sqm</th>\n",
       "      <th>flat_model</th>\n",
       "      <th>lease_commence_date</th>\n",
       "      <th>remaining_lease</th>\n",
       "      <th>resale_price</th>\n",
       "    </tr>\n",
       "  </thead>\n",
       "  <tbody>\n",
       "    <tr>\n",
       "      <th>0</th>\n",
       "      <td>2015-01</td>\n",
       "      <td>ANG MO KIO</td>\n",
       "      <td>3 ROOM</td>\n",
       "      <td>174</td>\n",
       "      <td>ANG MO KIO AVE 4</td>\n",
       "      <td>07 TO 09</td>\n",
       "      <td>60.0</td>\n",
       "      <td>Improved</td>\n",
       "      <td>1986</td>\n",
       "      <td>70</td>\n",
       "      <td>255000.0</td>\n",
       "    </tr>\n",
       "    <tr>\n",
       "      <th>1</th>\n",
       "      <td>2015-01</td>\n",
       "      <td>ANG MO KIO</td>\n",
       "      <td>3 ROOM</td>\n",
       "      <td>541</td>\n",
       "      <td>ANG MO KIO AVE 10</td>\n",
       "      <td>01 TO 03</td>\n",
       "      <td>68.0</td>\n",
       "      <td>New Generation</td>\n",
       "      <td>1981</td>\n",
       "      <td>65</td>\n",
       "      <td>275000.0</td>\n",
       "    </tr>\n",
       "    <tr>\n",
       "      <th>2</th>\n",
       "      <td>2015-01</td>\n",
       "      <td>ANG MO KIO</td>\n",
       "      <td>3 ROOM</td>\n",
       "      <td>163</td>\n",
       "      <td>ANG MO KIO AVE 4</td>\n",
       "      <td>01 TO 03</td>\n",
       "      <td>69.0</td>\n",
       "      <td>New Generation</td>\n",
       "      <td>1980</td>\n",
       "      <td>64</td>\n",
       "      <td>285000.0</td>\n",
       "    </tr>\n",
       "    <tr>\n",
       "      <th>3</th>\n",
       "      <td>2015-01</td>\n",
       "      <td>ANG MO KIO</td>\n",
       "      <td>3 ROOM</td>\n",
       "      <td>446</td>\n",
       "      <td>ANG MO KIO AVE 10</td>\n",
       "      <td>01 TO 03</td>\n",
       "      <td>68.0</td>\n",
       "      <td>New Generation</td>\n",
       "      <td>1979</td>\n",
       "      <td>63</td>\n",
       "      <td>290000.0</td>\n",
       "    </tr>\n",
       "    <tr>\n",
       "      <th>4</th>\n",
       "      <td>2015-01</td>\n",
       "      <td>ANG MO KIO</td>\n",
       "      <td>3 ROOM</td>\n",
       "      <td>557</td>\n",
       "      <td>ANG MO KIO AVE 10</td>\n",
       "      <td>07 TO 09</td>\n",
       "      <td>68.0</td>\n",
       "      <td>New Generation</td>\n",
       "      <td>1980</td>\n",
       "      <td>64</td>\n",
       "      <td>290000.0</td>\n",
       "    </tr>\n",
       "  </tbody>\n",
       "</table>\n",
       "</div>"
      ],
      "text/plain": [
       "     month        town flat_type block        street_name storey_range  \\\n",
       "0  2015-01  ANG MO KIO    3 ROOM   174   ANG MO KIO AVE 4     07 TO 09   \n",
       "1  2015-01  ANG MO KIO    3 ROOM   541  ANG MO KIO AVE 10     01 TO 03   \n",
       "2  2015-01  ANG MO KIO    3 ROOM   163   ANG MO KIO AVE 4     01 TO 03   \n",
       "3  2015-01  ANG MO KIO    3 ROOM   446  ANG MO KIO AVE 10     01 TO 03   \n",
       "4  2015-01  ANG MO KIO    3 ROOM   557  ANG MO KIO AVE 10     07 TO 09   \n",
       "\n",
       "   floor_area_sqm      flat_model  lease_commence_date  remaining_lease  \\\n",
       "0            60.0        Improved                 1986               70   \n",
       "1            68.0  New Generation                 1981               65   \n",
       "2            69.0  New Generation                 1980               64   \n",
       "3            68.0  New Generation                 1979               63   \n",
       "4            68.0  New Generation                 1980               64   \n",
       "\n",
       "   resale_price  \n",
       "0      255000.0  \n",
       "1      275000.0  \n",
       "2      285000.0  \n",
       "3      290000.0  \n",
       "4      290000.0  "
      ]
     },
     "execution_count": 1375,
     "metadata": {},
     "output_type": "execute_result"
    }
   ],
   "source": [
    "df_4.head()"
   ]
  },
  {
   "cell_type": "code",
   "execution_count": 1376,
   "id": "b945b9e9-4995-49e4-b929-7a7292435ebd",
   "metadata": {},
   "outputs": [
    {
     "data": {
      "text/html": [
       "<div>\n",
       "<style scoped>\n",
       "    .dataframe tbody tr th:only-of-type {\n",
       "        vertical-align: middle;\n",
       "    }\n",
       "\n",
       "    .dataframe tbody tr th {\n",
       "        vertical-align: top;\n",
       "    }\n",
       "\n",
       "    .dataframe thead th {\n",
       "        text-align: right;\n",
       "    }\n",
       "</style>\n",
       "<table border=\"1\" class=\"dataframe\">\n",
       "  <thead>\n",
       "    <tr style=\"text-align: right;\">\n",
       "      <th></th>\n",
       "      <th>month</th>\n",
       "      <th>town</th>\n",
       "      <th>flat_type</th>\n",
       "      <th>block</th>\n",
       "      <th>street_name</th>\n",
       "      <th>storey_range</th>\n",
       "      <th>floor_area_sqm</th>\n",
       "      <th>flat_model</th>\n",
       "      <th>lease_commence_date</th>\n",
       "      <th>remaining_lease</th>\n",
       "      <th>resale_price</th>\n",
       "    </tr>\n",
       "  </thead>\n",
       "  <tbody>\n",
       "    <tr>\n",
       "      <th>0</th>\n",
       "      <td>2017-01</td>\n",
       "      <td>ANG MO KIO</td>\n",
       "      <td>2 ROOM</td>\n",
       "      <td>406</td>\n",
       "      <td>ANG MO KIO AVE 10</td>\n",
       "      <td>10 TO 12</td>\n",
       "      <td>44.0</td>\n",
       "      <td>Improved</td>\n",
       "      <td>1979</td>\n",
       "      <td>61 years 04 months</td>\n",
       "      <td>232000.0</td>\n",
       "    </tr>\n",
       "    <tr>\n",
       "      <th>1</th>\n",
       "      <td>2017-01</td>\n",
       "      <td>ANG MO KIO</td>\n",
       "      <td>3 ROOM</td>\n",
       "      <td>108</td>\n",
       "      <td>ANG MO KIO AVE 4</td>\n",
       "      <td>01 TO 03</td>\n",
       "      <td>67.0</td>\n",
       "      <td>New Generation</td>\n",
       "      <td>1978</td>\n",
       "      <td>60 years 07 months</td>\n",
       "      <td>250000.0</td>\n",
       "    </tr>\n",
       "    <tr>\n",
       "      <th>2</th>\n",
       "      <td>2017-01</td>\n",
       "      <td>ANG MO KIO</td>\n",
       "      <td>3 ROOM</td>\n",
       "      <td>602</td>\n",
       "      <td>ANG MO KIO AVE 5</td>\n",
       "      <td>01 TO 03</td>\n",
       "      <td>67.0</td>\n",
       "      <td>New Generation</td>\n",
       "      <td>1980</td>\n",
       "      <td>62 years 05 months</td>\n",
       "      <td>262000.0</td>\n",
       "    </tr>\n",
       "    <tr>\n",
       "      <th>3</th>\n",
       "      <td>2017-01</td>\n",
       "      <td>ANG MO KIO</td>\n",
       "      <td>3 ROOM</td>\n",
       "      <td>465</td>\n",
       "      <td>ANG MO KIO AVE 10</td>\n",
       "      <td>04 TO 06</td>\n",
       "      <td>68.0</td>\n",
       "      <td>New Generation</td>\n",
       "      <td>1980</td>\n",
       "      <td>62 years 01 month</td>\n",
       "      <td>265000.0</td>\n",
       "    </tr>\n",
       "    <tr>\n",
       "      <th>4</th>\n",
       "      <td>2017-01</td>\n",
       "      <td>ANG MO KIO</td>\n",
       "      <td>3 ROOM</td>\n",
       "      <td>601</td>\n",
       "      <td>ANG MO KIO AVE 5</td>\n",
       "      <td>01 TO 03</td>\n",
       "      <td>67.0</td>\n",
       "      <td>New Generation</td>\n",
       "      <td>1980</td>\n",
       "      <td>62 years 05 months</td>\n",
       "      <td>265000.0</td>\n",
       "    </tr>\n",
       "  </tbody>\n",
       "</table>\n",
       "</div>"
      ],
      "text/plain": [
       "     month        town flat_type block        street_name storey_range  \\\n",
       "0  2017-01  ANG MO KIO    2 ROOM   406  ANG MO KIO AVE 10     10 TO 12   \n",
       "1  2017-01  ANG MO KIO    3 ROOM   108   ANG MO KIO AVE 4     01 TO 03   \n",
       "2  2017-01  ANG MO KIO    3 ROOM   602   ANG MO KIO AVE 5     01 TO 03   \n",
       "3  2017-01  ANG MO KIO    3 ROOM   465  ANG MO KIO AVE 10     04 TO 06   \n",
       "4  2017-01  ANG MO KIO    3 ROOM   601   ANG MO KIO AVE 5     01 TO 03   \n",
       "\n",
       "   floor_area_sqm      flat_model  lease_commence_date     remaining_lease  \\\n",
       "0            44.0        Improved                 1979  61 years 04 months   \n",
       "1            67.0  New Generation                 1978  60 years 07 months   \n",
       "2            67.0  New Generation                 1980  62 years 05 months   \n",
       "3            68.0  New Generation                 1980   62 years 01 month   \n",
       "4            67.0  New Generation                 1980  62 years 05 months   \n",
       "\n",
       "   resale_price  \n",
       "0      232000.0  \n",
       "1      250000.0  \n",
       "2      262000.0  \n",
       "3      265000.0  \n",
       "4      265000.0  "
      ]
     },
     "execution_count": 1376,
     "metadata": {},
     "output_type": "execute_result"
    }
   ],
   "source": [
    "df_5.head()"
   ]
  },
  {
   "cell_type": "code",
   "execution_count": 1377,
   "id": "7264333a-f0ee-492d-9e3c-7fab33b1f96b",
   "metadata": {},
   "outputs": [
    {
     "data": {
      "text/html": [
       "<div>\n",
       "<style scoped>\n",
       "    .dataframe tbody tr th:only-of-type {\n",
       "        vertical-align: middle;\n",
       "    }\n",
       "\n",
       "    .dataframe tbody tr th {\n",
       "        vertical-align: top;\n",
       "    }\n",
       "\n",
       "    .dataframe thead th {\n",
       "        text-align: right;\n",
       "    }\n",
       "</style>\n",
       "<table border=\"1\" class=\"dataframe\">\n",
       "  <thead>\n",
       "    <tr style=\"text-align: right;\">\n",
       "      <th></th>\n",
       "      <th>month</th>\n",
       "      <th>town</th>\n",
       "      <th>flat_type</th>\n",
       "      <th>block</th>\n",
       "      <th>street_name</th>\n",
       "      <th>storey_range</th>\n",
       "      <th>floor_area_sqm</th>\n",
       "      <th>flat_model</th>\n",
       "      <th>lease_commence_date</th>\n",
       "      <th>resale_price</th>\n",
       "      <th>remaining_lease</th>\n",
       "    </tr>\n",
       "  </thead>\n",
       "  <tbody>\n",
       "    <tr>\n",
       "      <th>0</th>\n",
       "      <td>1990-01</td>\n",
       "      <td>ANG MO KIO</td>\n",
       "      <td>1 ROOM</td>\n",
       "      <td>309</td>\n",
       "      <td>ANG MO KIO AVE 1</td>\n",
       "      <td>10 TO 12</td>\n",
       "      <td>31.0</td>\n",
       "      <td>IMPROVED</td>\n",
       "      <td>1977</td>\n",
       "      <td>9000.0</td>\n",
       "      <td>NaN</td>\n",
       "    </tr>\n",
       "    <tr>\n",
       "      <th>1</th>\n",
       "      <td>1990-01</td>\n",
       "      <td>ANG MO KIO</td>\n",
       "      <td>1 ROOM</td>\n",
       "      <td>309</td>\n",
       "      <td>ANG MO KIO AVE 1</td>\n",
       "      <td>04 TO 06</td>\n",
       "      <td>31.0</td>\n",
       "      <td>IMPROVED</td>\n",
       "      <td>1977</td>\n",
       "      <td>6000.0</td>\n",
       "      <td>NaN</td>\n",
       "    </tr>\n",
       "    <tr>\n",
       "      <th>2</th>\n",
       "      <td>1990-01</td>\n",
       "      <td>ANG MO KIO</td>\n",
       "      <td>1 ROOM</td>\n",
       "      <td>309</td>\n",
       "      <td>ANG MO KIO AVE 1</td>\n",
       "      <td>10 TO 12</td>\n",
       "      <td>31.0</td>\n",
       "      <td>IMPROVED</td>\n",
       "      <td>1977</td>\n",
       "      <td>8000.0</td>\n",
       "      <td>NaN</td>\n",
       "    </tr>\n",
       "    <tr>\n",
       "      <th>3</th>\n",
       "      <td>1990-01</td>\n",
       "      <td>ANG MO KIO</td>\n",
       "      <td>1 ROOM</td>\n",
       "      <td>309</td>\n",
       "      <td>ANG MO KIO AVE 1</td>\n",
       "      <td>07 TO 09</td>\n",
       "      <td>31.0</td>\n",
       "      <td>IMPROVED</td>\n",
       "      <td>1977</td>\n",
       "      <td>6000.0</td>\n",
       "      <td>NaN</td>\n",
       "    </tr>\n",
       "    <tr>\n",
       "      <th>4</th>\n",
       "      <td>1990-01</td>\n",
       "      <td>ANG MO KIO</td>\n",
       "      <td>3 ROOM</td>\n",
       "      <td>216</td>\n",
       "      <td>ANG MO KIO AVE 1</td>\n",
       "      <td>04 TO 06</td>\n",
       "      <td>73.0</td>\n",
       "      <td>NEW GENERATION</td>\n",
       "      <td>1976</td>\n",
       "      <td>47200.0</td>\n",
       "      <td>NaN</td>\n",
       "    </tr>\n",
       "  </tbody>\n",
       "</table>\n",
       "</div>"
      ],
      "text/plain": [
       "     month        town flat_type block       street_name storey_range  \\\n",
       "0  1990-01  ANG MO KIO    1 ROOM   309  ANG MO KIO AVE 1     10 TO 12   \n",
       "1  1990-01  ANG MO KIO    1 ROOM   309  ANG MO KIO AVE 1     04 TO 06   \n",
       "2  1990-01  ANG MO KIO    1 ROOM   309  ANG MO KIO AVE 1     10 TO 12   \n",
       "3  1990-01  ANG MO KIO    1 ROOM   309  ANG MO KIO AVE 1     07 TO 09   \n",
       "4  1990-01  ANG MO KIO    3 ROOM   216  ANG MO KIO AVE 1     04 TO 06   \n",
       "\n",
       "   floor_area_sqm      flat_model  lease_commence_date  resale_price  \\\n",
       "0            31.0        IMPROVED                 1977        9000.0   \n",
       "1            31.0        IMPROVED                 1977        6000.0   \n",
       "2            31.0        IMPROVED                 1977        8000.0   \n",
       "3            31.0        IMPROVED                 1977        6000.0   \n",
       "4            73.0  NEW GENERATION                 1976       47200.0   \n",
       "\n",
       "  remaining_lease  \n",
       "0             NaN  \n",
       "1             NaN  \n",
       "2             NaN  \n",
       "3             NaN  \n",
       "4             NaN  "
      ]
     },
     "execution_count": 1377,
     "metadata": {},
     "output_type": "execute_result"
    }
   ],
   "source": [
    "df=pd.concat([df_1,df_2,df_3,df_4,df_5],ignore_index=True)\n",
    "df.head()"
   ]
  },
  {
   "cell_type": "code",
   "execution_count": 1378,
   "id": "6de7722f-13f7-4462-8a44-68956f652caa",
   "metadata": {},
   "outputs": [],
   "source": [
    "df[['year', 'month']] = df['month'].str.split('-', expand=True)\n",
    "df[['storey_start', 'storey_end']] = df['storey_range'].str.split('TO',expand=True)\n",
    "df['month']=pd.to_numeric(df['month'])\n",
    "df['year']=pd.to_numeric(df['year'])\n",
    "df['floor_area_sqm']=pd.to_numeric(df['floor_area_sqm'])\n",
    "df['resale_price']=pd.to_numeric(df['resale_price'])\n",
    "df['storey_start']=pd.to_numeric(df['storey_start'])\n",
    "df['storey_end']=pd.to_numeric(df['storey_end'])\n",
    "\n",
    "df.drop(columns='storey_range',inplace=True)"
   ]
  },
  {
   "cell_type": "code",
   "execution_count": 1379,
   "id": "e042252d-0bec-414b-9e02-b1b4812374b0",
   "metadata": {},
   "outputs": [
    {
     "data": {
      "text/plain": [
       "(938269, 13)"
      ]
     },
     "execution_count": 1379,
     "metadata": {},
     "output_type": "execute_result"
    }
   ],
   "source": [
    "df.shape"
   ]
  },
  {
   "cell_type": "code",
   "execution_count": 1380,
   "id": "1887699d-835a-40c8-b545-34339329cedf",
   "metadata": {},
   "outputs": [
    {
     "data": {
      "text/plain": [
       "month                    int64\n",
       "town                    object\n",
       "flat_type               object\n",
       "block                   object\n",
       "street_name             object\n",
       "floor_area_sqm         float64\n",
       "flat_model              object\n",
       "lease_commence_date      int64\n",
       "resale_price           float64\n",
       "remaining_lease         object\n",
       "year                     int64\n",
       "storey_start             int64\n",
       "storey_end               int64\n",
       "dtype: object"
      ]
     },
     "execution_count": 1380,
     "metadata": {},
     "output_type": "execute_result"
    }
   ],
   "source": [
    "df.dtypes"
   ]
  },
  {
   "cell_type": "code",
   "execution_count": 1381,
   "id": "af2d6d42-00ae-4cb5-a8bf-104843870821",
   "metadata": {},
   "outputs": [
    {
     "data": {
      "text/plain": [
       "town\n",
       "TAMPINES           80722\n",
       "YISHUN             70785\n",
       "JURONG WEST        67442\n",
       "BEDOK              67182\n",
       "WOODLANDS          66336\n",
       "ANG MO KIO         52528\n",
       "HOUGANG            51317\n",
       "BUKIT BATOK        45128\n",
       "CHOA CHU KANG      38837\n",
       "BUKIT MERAH        34767\n",
       "PASIR RIS          33475\n",
       "SENGKANG           33354\n",
       "TOA PAYOH          31870\n",
       "QUEENSTOWN         29063\n",
       "GEYLANG            28468\n",
       "CLEMENTI           28268\n",
       "BUKIT PANJANG      28039\n",
       "KALLANG/WHAMPOA    27613\n",
       "JURONG EAST        25010\n",
       "SERANGOON          23008\n",
       "PUNGGOL            21490\n",
       "BISHAN             21425\n",
       "SEMBAWANG          14219\n",
       "MARINE PARADE       8097\n",
       "CENTRAL AREA        7218\n",
       "BUKIT TIMAH         2544\n",
       "LIM CHU KANG          64\n",
       "Name: count, dtype: int64"
      ]
     },
     "execution_count": 1381,
     "metadata": {},
     "output_type": "execute_result"
    }
   ],
   "source": [
    "df['town'].value_counts()"
   ]
  },
  {
   "cell_type": "code",
   "execution_count": 1382,
   "id": "556a15de-22d1-4c70-b6b7-fd9ecde54cb3",
   "metadata": {},
   "outputs": [
    {
     "data": {
      "text/plain": [
       "array(['1 ROOM', '3 ROOM', '4 ROOM', '5 ROOM', '2 ROOM', 'EXECUTIVE',\n",
       "       'MULTI GENERATION', 'MULTI-GENERATION'], dtype=object)"
      ]
     },
     "execution_count": 1382,
     "metadata": {},
     "output_type": "execute_result"
    }
   ],
   "source": [
    "df['flat_type'].unique()"
   ]
  },
  {
   "cell_type": "code",
   "execution_count": 1383,
   "id": "4fde4e9c-b8b8-4301-a8fc-7a0d08860b4c",
   "metadata": {},
   "outputs": [
    {
     "data": {
      "text/plain": [
       "flat_type\n",
       "4 ROOM              357125\n",
       "3 ROOM              298695\n",
       "5 ROOM              198050\n",
       "EXECUTIVE            70386\n",
       "2 ROOM               12162\n",
       "1 ROOM                1307\n",
       "MULTI GENERATION       279\n",
       "MULTI-GENERATION       265\n",
       "Name: count, dtype: int64"
      ]
     },
     "execution_count": 1383,
     "metadata": {},
     "output_type": "execute_result"
    }
   ],
   "source": [
    "df['flat_type'].value_counts()"
   ]
  },
  {
   "cell_type": "code",
   "execution_count": 1384,
   "id": "1e65d1ac-c091-4153-a1f3-472289b7b080",
   "metadata": {},
   "outputs": [],
   "source": [
    "df['flat_type']=df['flat_type'].replace({'MULTI GENERATION': 'MULTI-GENERATION'})"
   ]
  },
  {
   "cell_type": "code",
   "execution_count": 1385,
   "id": "c895f2ca-5935-4b7f-94b2-ccbb0713bfd7",
   "metadata": {},
   "outputs": [
    {
     "data": {
      "text/plain": [
       "flat_type\n",
       "4 ROOM              357125\n",
       "3 ROOM              298695\n",
       "5 ROOM              198050\n",
       "EXECUTIVE            70386\n",
       "2 ROOM               12162\n",
       "1 ROOM                1307\n",
       "MULTI-GENERATION       544\n",
       "Name: count, dtype: int64"
      ]
     },
     "execution_count": 1385,
     "metadata": {},
     "output_type": "execute_result"
    }
   ],
   "source": [
    "df['flat_type'].value_counts()"
   ]
  },
  {
   "cell_type": "code",
   "execution_count": 1386,
   "id": "dd4535ed-5802-4eb6-8285-abe46a6fa334",
   "metadata": {},
   "outputs": [
    {
     "data": {
      "text/plain": [
       "array(['1 ROOM', '3 ROOM', '4 ROOM', '5 ROOM', '2 ROOM', 'EXECUTIVE',\n",
       "       'MULTI-GENERATION'], dtype=object)"
      ]
     },
     "execution_count": 1386,
     "metadata": {},
     "output_type": "execute_result"
    }
   ],
   "source": [
    "df['flat_type'].unique()"
   ]
  },
  {
   "cell_type": "code",
   "execution_count": 1387,
   "id": "2a1245c8-1e7b-44e4-b3ab-3a0c4b5c69e1",
   "metadata": {},
   "outputs": [
    {
     "data": {
      "text/plain": [
       "street_name\n",
       "YISHUN RING RD        17742\n",
       "BEDOK RESERVOIR RD    14834\n",
       "ANG MO KIO AVE 10     13913\n",
       "ANG MO KIO AVE 3      12240\n",
       "HOUGANG AVE 8          9419\n",
       "                      ...  \n",
       "SENGKANG WEST RD          5\n",
       "MARINE PARADE CTRL        3\n",
       "TAMPINES NTH DR 1         3\n",
       "CANBERRA VIEW             2\n",
       "ALJUNIED AVE 2            1\n",
       "Name: count, Length: 588, dtype: int64"
      ]
     },
     "execution_count": 1387,
     "metadata": {},
     "output_type": "execute_result"
    }
   ],
   "source": [
    "df['street_name'].value_counts()"
   ]
  },
  {
   "cell_type": "code",
   "execution_count": 1388,
   "id": "6a6aee2d-04d3-491b-afe2-b5abf19a85c9",
   "metadata": {},
   "outputs": [
    {
     "data": {
      "text/plain": [
       "floor_area_sqm\n",
       "67.0     70033\n",
       "104.0    47549\n",
       "68.0     40726\n",
       "84.0     36402\n",
       "92.0     31291\n",
       "         ...  \n",
       "131.1        1\n",
       "307.0        1\n",
       "152.4        1\n",
       "69.9         1\n",
       "90.8         1\n",
       "Name: count, Length: 214, dtype: int64"
      ]
     },
     "execution_count": 1388,
     "metadata": {},
     "output_type": "execute_result"
    }
   ],
   "source": [
    "df['floor_area_sqm'].value_counts()"
   ]
  },
  {
   "cell_type": "code",
   "execution_count": 1389,
   "id": "8359fd21-1b21-409d-8153-82f27225dec6",
   "metadata": {},
   "outputs": [],
   "source": [
    "df['floor_area_sq_ft'] = df['floor_area_sqm'] * 10.7639"
   ]
  },
  {
   "cell_type": "code",
   "execution_count": 1390,
   "id": "b8cda725-35ff-4c25-827c-66a8f76c5eb2",
   "metadata": {},
   "outputs": [
    {
     "data": {
      "text/plain": [
       "flat_model\n",
       "Model A                   199087\n",
       "Improved                  170870\n",
       "New Generation            111376\n",
       "NEW GENERATION             78898\n",
       "IMPROVED                   73589\n",
       "MODEL A                    70381\n",
       "Premium Apartment          47977\n",
       "Simplified                 34704\n",
       "Apartment                  25946\n",
       "Standard                   25425\n",
       "SIMPLIFIED                 23258\n",
       "Maisonette                 17735\n",
       "STANDARD                   17375\n",
       "MAISONETTE                 12215\n",
       "Model A2                   10275\n",
       "APARTMENT                   9901\n",
       "DBSS                        3426\n",
       "Adjoined flat               1270\n",
       "Model A-Maisonette          1111\n",
       "MODEL A-MAISONETTE           982\n",
       "Terrace                      450\n",
       "Type S1                      447\n",
       "MULTI GENERATION             279\n",
       "Multi Generation             265\n",
       "TERRACE                      247\n",
       "Type S2                      223\n",
       "2-room                       157\n",
       "Premium Apartment Loft       114\n",
       "Premium Maisonette            86\n",
       "Improved-Maisonette           84\n",
       "3Gen                          45\n",
       "IMPROVED-MAISONETTE           44\n",
       "2-ROOM                        21\n",
       "PREMIUM APARTMENT              6\n",
       "Name: count, dtype: int64"
      ]
     },
     "execution_count": 1390,
     "metadata": {},
     "output_type": "execute_result"
    }
   ],
   "source": [
    "df['flat_model'].value_counts()"
   ]
  },
  {
   "cell_type": "code",
   "execution_count": 1391,
   "id": "4e302595-2e42-42fe-ad77-c6a7653aed07",
   "metadata": {},
   "outputs": [],
   "source": [
    "df['flat_model']=df['flat_model'].replace({'IMPROVED': 'Improved'})\n",
    "df['flat_model']=df['flat_model'].replace({'NEW GENERATION': 'New Generation'})\n",
    "df['flat_model']=df['flat_model'].replace({'MODEL A': 'Model A'})\n",
    "df['flat_model']=df['flat_model'].replace({'PREMIUM APARTMENT': 'Premium Apartment'})\n",
    "df['flat_model']=df['flat_model'].replace({'SIMPLIFIED': 'Simplified'})\n",
    "df['flat_model']=df['flat_model'].replace({'APARTMENT': 'Apartment'})\n",
    "df['flat_model']=df['flat_model'].replace({'STANDARD': 'Standard'})\n",
    "df['flat_model']=df['flat_model'].replace({'MAISONETTE': 'Maisonette'})\n",
    "df['flat_model']=df['flat_model'].replace({'MODEL A-MAISONETTE': 'Model A-Maisonette'})\n",
    "df['flat_model']=df['flat_model'].replace({'TERRACE': 'Terrace'})\n",
    "df['flat_model']=df['flat_model'].replace({'MULTI GENERATION': 'Multi Generation'})\n",
    "df['flat_model']=df['flat_model'].replace({'2-ROOM': '2-room'})\n",
    "df['flat_model']=df['flat_model'].replace({'IMPROVED-MAISONETTE': 'Improved-Maisonette'})"
   ]
  },
  {
   "cell_type": "code",
   "execution_count": 1392,
   "id": "76adb4f0-1610-40a2-be31-af4a766fa978",
   "metadata": {},
   "outputs": [
    {
     "data": {
      "text/plain": [
       "flat_model\n",
       "Model A                   269468\n",
       "Improved                  244459\n",
       "New Generation            190274\n",
       "Simplified                 57962\n",
       "Premium Apartment          47983\n",
       "Standard                   42800\n",
       "Apartment                  35847\n",
       "Maisonette                 29950\n",
       "Model A2                   10275\n",
       "DBSS                        3426\n",
       "Model A-Maisonette          2093\n",
       "Adjoined flat               1270\n",
       "Terrace                      697\n",
       "Multi Generation             544\n",
       "Type S1                      447\n",
       "Type S2                      223\n",
       "2-room                       178\n",
       "Improved-Maisonette          128\n",
       "Premium Apartment Loft       114\n",
       "Premium Maisonette            86\n",
       "3Gen                          45\n",
       "Name: count, dtype: int64"
      ]
     },
     "execution_count": 1392,
     "metadata": {},
     "output_type": "execute_result"
    }
   ],
   "source": [
    "df['flat_model'].value_counts()"
   ]
  },
  {
   "cell_type": "code",
   "execution_count": 1393,
   "id": "b38d84bf-74ec-4f57-9cb2-4016da677e7b",
   "metadata": {},
   "outputs": [
    {
     "data": {
      "text/plain": [
       "lease_commence_date\n",
       "1985    88056\n",
       "1984    63940\n",
       "1988    51112\n",
       "1987    43162\n",
       "1978    41605\n",
       "1986    38912\n",
       "1989    32496\n",
       "1980    32250\n",
       "1997    31275\n",
       "1979    31201\n",
       "1993    28427\n",
       "1996    28352\n",
       "1998    25995\n",
       "1983    23248\n",
       "1976    21728\n",
       "1999    21207\n",
       "1981    21098\n",
       "1977    20887\n",
       "1992    20400\n",
       "2001    19819\n",
       "1995    19168\n",
       "2000    18680\n",
       "1975    17522\n",
       "2003    16052\n",
       "1974    14691\n",
       "1982    13428\n",
       "2002    12810\n",
       "1970    11536\n",
       "2015    10627\n",
       "1990     9365\n",
       "1973     8666\n",
       "2004     8602\n",
       "1969     8416\n",
       "1971     7921\n",
       "2016     6650\n",
       "1994     6616\n",
       "1967     6241\n",
       "2018     6192\n",
       "1972     5877\n",
       "2013     5752\n",
       "2017     5708\n",
       "2012     5156\n",
       "2005     4125\n",
       "2014     3942\n",
       "2006     3282\n",
       "2011     2757\n",
       "2019     2716\n",
       "2008     2210\n",
       "1968     1881\n",
       "2009     1844\n",
       "2010     1408\n",
       "1991     1260\n",
       "2007     1016\n",
       "2020      948\n",
       "1966       34\n",
       "Name: count, dtype: int64"
      ]
     },
     "execution_count": 1393,
     "metadata": {},
     "output_type": "execute_result"
    }
   ],
   "source": [
    "df['lease_commence_date'].value_counts()"
   ]
  },
  {
   "cell_type": "code",
   "execution_count": 1394,
   "id": "da482388-5fae-4531-8eca-4384fc0f6867",
   "metadata": {},
   "outputs": [
    {
     "data": {
      "text/plain": [
       "resale_price\n",
       "300000.0    6941\n",
       "350000.0    6897\n",
       "280000.0    6559\n",
       "320000.0    6548\n",
       "380000.0    6365\n",
       "            ... \n",
       "238998.0       1\n",
       "158598.0       1\n",
       "240570.0       1\n",
       "242428.0       1\n",
       "950500.0       1\n",
       "Name: count, Length: 9692, dtype: int64"
      ]
     },
     "execution_count": 1394,
     "metadata": {},
     "output_type": "execute_result"
    }
   ],
   "source": [
    "df['resale_price'].value_counts()"
   ]
  },
  {
   "cell_type": "code",
   "execution_count": 1395,
   "id": "e8ff0911-8a93-41d6-adf7-3df7f44b86c9",
   "metadata": {},
   "outputs": [
    {
     "data": {
      "text/plain": [
       "remaining_lease\n",
       "68                    2328\n",
       "67                    1857\n",
       "94 years 10 months    1704\n",
       "94 years 09 months    1704\n",
       "94 years 11 months    1673\n",
       "                      ... \n",
       "97 years 01 month        1\n",
       "48                       1\n",
       "93 years 0 months        1\n",
       "95 years 0 months        1\n",
       "66 years 0 months        1\n",
       "Name: count, Length: 729, dtype: int64"
      ]
     },
     "execution_count": 1395,
     "metadata": {},
     "output_type": "execute_result"
    }
   ],
   "source": [
    "df['remaining_lease'].value_counts()"
   ]
  },
  {
   "cell_type": "code",
   "execution_count": 1396,
   "id": "e9406727-d367-4275-8409-ecebb894f6bb",
   "metadata": {},
   "outputs": [],
   "source": [
    "df['remaining_lease'].fillna(99-(df['year']-df['lease_commence_date']),inplace=True)"
   ]
  },
  {
   "cell_type": "code",
   "execution_count": 1397,
   "id": "9b245007-7578-435c-9c4b-77e34bdeab15",
   "metadata": {},
   "outputs": [],
   "source": [
    "df['remaining_lease'] = pd.to_numeric(df['remaining_lease'], errors='coerce')"
   ]
  },
  {
   "cell_type": "code",
   "execution_count": 1398,
   "id": "8f233278-8520-4ef7-9d48-d4c72fdb85b3",
   "metadata": {},
   "outputs": [],
   "source": [
    "\n",
    "df['age_of_property']= df['year']-df['lease_commence_date']"
   ]
  },
  {
   "cell_type": "code",
   "execution_count": 1399,
   "id": "4873fdb5-d7cd-40ea-8b4c-df54c090fcce",
   "metadata": {},
   "outputs": [
    {
     "data": {
      "text/plain": [
       "age_of_property\n",
       " 5     51669\n",
       " 4     50421\n",
       " 6     38727\n",
       " 10    34466\n",
       " 13    34409\n",
       "       ...  \n",
       " 57      104\n",
       " 0       100\n",
       "-1        47\n",
       "-2         4\n",
       " 58        2\n",
       "Name: count, Length: 61, dtype: int64"
      ]
     },
     "execution_count": 1399,
     "metadata": {},
     "output_type": "execute_result"
    }
   ],
   "source": [
    "df['age_of_property'].value_counts()"
   ]
  },
  {
   "cell_type": "code",
   "execution_count": 1400,
   "id": "a950a9fe-572d-4c13-9b4b-04d1fdcfe319",
   "metadata": {},
   "outputs": [
    {
     "data": {
      "text/plain": [
       "month                    int64\n",
       "town                    object\n",
       "flat_type               object\n",
       "block                   object\n",
       "street_name             object\n",
       "floor_area_sqm         float64\n",
       "flat_model              object\n",
       "lease_commence_date      int64\n",
       "resale_price           float64\n",
       "remaining_lease        float64\n",
       "year                     int64\n",
       "storey_start             int64\n",
       "storey_end               int64\n",
       "floor_area_sq_ft       float64\n",
       "age_of_property          int64\n",
       "dtype: object"
      ]
     },
     "execution_count": 1400,
     "metadata": {},
     "output_type": "execute_result"
    }
   ],
   "source": [
    "df.dtypes"
   ]
  },
  {
   "cell_type": "code",
   "execution_count": 1401,
   "id": "03fcfa26-8293-480b-a3b8-f47210d7eaf7",
   "metadata": {},
   "outputs": [],
   "source": [
    "mask= df['remaining_lease']>99\n",
    "df=df[~mask] "
   ]
  },
  {
   "cell_type": "code",
   "execution_count": 1402,
   "id": "bc25c0a7-f122-48e1-99c9-509c1ae06d4c",
   "metadata": {},
   "outputs": [
    {
     "data": {
      "text/plain": [
       "remaining_lease\n",
       "94.0    39044\n",
       "95.0    38087\n",
       "86.0    32839\n",
       "88.0    32374\n",
       "85.0    32326\n",
       "89.0    32243\n",
       "87.0    31943\n",
       "93.0    30957\n",
       "90.0    30002\n",
       "84.0    29128\n",
       "91.0    27912\n",
       "92.0    27435\n",
       "83.0    26923\n",
       "82.0    25513\n",
       "81.0    24683\n",
       "80.0    23826\n",
       "79.0    23506\n",
       "78.0    22504\n",
       "77.0    20630\n",
       "76.0    19804\n",
       "75.0    18660\n",
       "74.0    17429\n",
       "73.0    15814\n",
       "72.0    15037\n",
       "71.0    13899\n",
       "70.0    12325\n",
       "69.0    10938\n",
       "68.0    10176\n",
       "67.0     8871\n",
       "96.0     7803\n",
       "66.0     7111\n",
       "65.0     6137\n",
       "64.0     5289\n",
       "63.0     4831\n",
       "62.0     4003\n",
       "61.0     3620\n",
       "60.0     2893\n",
       "59.0     2212\n",
       "58.0     1787\n",
       "57.0     1415\n",
       "56.0     1112\n",
       "55.0      695\n",
       "54.0      488\n",
       "97.0      454\n",
       "53.0      419\n",
       "52.0      367\n",
       "98.0      209\n",
       "51.0      152\n",
       "50.0      138\n",
       "99.0      100\n",
       "49.0       88\n",
       "48.0        1\n",
       "Name: count, dtype: int64"
      ]
     },
     "execution_count": 1402,
     "metadata": {},
     "output_type": "execute_result"
    }
   ],
   "source": [
    "df['remaining_lease'].value_counts()"
   ]
  },
  {
   "cell_type": "code",
   "execution_count": 1403,
   "id": "dbb03b07-9366-4706-887a-cd360216ff14",
   "metadata": {},
   "outputs": [
    {
     "data": {
      "text/plain": [
       "month                    int64\n",
       "town                    object\n",
       "flat_type               object\n",
       "block                   object\n",
       "street_name             object\n",
       "floor_area_sqm         float64\n",
       "flat_model              object\n",
       "lease_commence_date      int64\n",
       "resale_price           float64\n",
       "remaining_lease        float64\n",
       "year                     int64\n",
       "storey_start             int64\n",
       "storey_end               int64\n",
       "floor_area_sq_ft       float64\n",
       "age_of_property          int64\n",
       "dtype: object"
      ]
     },
     "execution_count": 1403,
     "metadata": {},
     "output_type": "execute_result"
    }
   ],
   "source": [
    "df.dtypes\n"
   ]
  },
  {
   "cell_type": "code",
   "execution_count": 1404,
   "id": "ade972fd-4c46-4ea9-ad30-5fa3a16f3939",
   "metadata": {},
   "outputs": [
    {
     "data": {
      "text/plain": [
       "(938218, 15)"
      ]
     },
     "execution_count": 1404,
     "metadata": {},
     "output_type": "execute_result"
    }
   ],
   "source": [
    "df.shape"
   ]
  },
  {
   "cell_type": "code",
   "execution_count": 1405,
   "id": "40d155b6-8579-4bdd-b4ae-859aeed88584",
   "metadata": {},
   "outputs": [
    {
     "data": {
      "text/plain": [
       "year\n",
       "1999    57782\n",
       "1998    51095\n",
       "2001    38055\n",
       "2002    36098\n",
       "1996    34916\n",
       "2000    34862\n",
       "2010    34854\n",
       "1997    31759\n",
       "2009    30482\n",
       "2005    30033\n",
       "2004    29110\n",
       "2021    29087\n",
       "2003    29003\n",
       "2006    27427\n",
       "1995    27277\n",
       "2008    27262\n",
       "2007    26982\n",
       "2022    26720\n",
       "1994    26355\n",
       "2023    25755\n",
       "2020    23333\n",
       "2012    23198\n",
       "2024    22915\n",
       "2011    22280\n",
       "2019    22186\n",
       "2018    21561\n",
       "2017    20509\n",
       "2016    19373\n",
       "1993    18115\n",
       "2015    17780\n",
       "2013    16097\n",
       "2014    16096\n",
       "1992    14502\n",
       "1991    12854\n",
       "1990    12505\n",
       "Name: count, dtype: int64"
      ]
     },
     "execution_count": 1405,
     "metadata": {},
     "output_type": "execute_result"
    }
   ],
   "source": [
    "df['year'].value_counts()"
   ]
  },
  {
   "cell_type": "code",
   "execution_count": 1406,
   "id": "3c4232fd-d667-4bb1-818c-71fb8d4ae46a",
   "metadata": {},
   "outputs": [
    {
     "data": {
      "text/plain": [
       "storey_start\n",
       "4     235136\n",
       "7     212453\n",
       "1     191137\n",
       "10    180865\n",
       "13     63119\n",
       "16     24943\n",
       "19     11672\n",
       "22      7567\n",
       "25      3536\n",
       "6       2474\n",
       "28      1708\n",
       "11      1259\n",
       "31       672\n",
       "34       618\n",
       "37       531\n",
       "40       253\n",
       "21        92\n",
       "43        66\n",
       "46        53\n",
       "26        39\n",
       "49        18\n",
       "36         7\n",
       "Name: count, dtype: int64"
      ]
     },
     "execution_count": 1406,
     "metadata": {},
     "output_type": "execute_result"
    }
   ],
   "source": [
    "df['storey_start'].value_counts()"
   ]
  },
  {
   "cell_type": "code",
   "execution_count": 1407,
   "id": "1e62fd7d-6b86-4212-b2ca-9db174f74786",
   "metadata": {},
   "outputs": [
    {
     "data": {
      "text/plain": [
       "storey_end\n",
       "6     235136\n",
       "9     212453\n",
       "3     188437\n",
       "12    180865\n",
       "15     64378\n",
       "18     24678\n",
       "21     11672\n",
       "24      7567\n",
       "27      3536\n",
       "5       2700\n",
       "10      2474\n",
       "30      1747\n",
       "33       670\n",
       "36       618\n",
       "39       531\n",
       "20       265\n",
       "42       253\n",
       "25        92\n",
       "45        66\n",
       "48        53\n",
       "51        18\n",
       "40         7\n",
       "35         2\n",
       "Name: count, dtype: int64"
      ]
     },
     "execution_count": 1407,
     "metadata": {},
     "output_type": "execute_result"
    }
   ],
   "source": [
    "df['storey_end'].value_counts()"
   ]
  },
  {
   "cell_type": "code",
   "execution_count": 1408,
   "id": "e7a92b18-7806-4015-991f-0bb132a8544b",
   "metadata": {},
   "outputs": [
    {
     "data": {
      "text/plain": [
       "month                       0\n",
       "town                        0\n",
       "flat_type                   0\n",
       "block                       0\n",
       "street_name                 0\n",
       "floor_area_sqm              0\n",
       "flat_model                  0\n",
       "lease_commence_date         0\n",
       "resale_price                0\n",
       "remaining_lease        192066\n",
       "year                        0\n",
       "storey_start                0\n",
       "storey_end                  0\n",
       "floor_area_sq_ft            0\n",
       "age_of_property             0\n",
       "dtype: int64"
      ]
     },
     "execution_count": 1408,
     "metadata": {},
     "output_type": "execute_result"
    }
   ],
   "source": [
    "df.isnull().sum()"
   ]
  },
  {
   "cell_type": "code",
   "execution_count": 1409,
   "id": "b6fcbc03-60a9-4e17-a003-feb5a1a396dc",
   "metadata": {},
   "outputs": [
    {
     "data": {
      "text/plain": [
       "(938218, 15)"
      ]
     },
     "execution_count": 1409,
     "metadata": {},
     "output_type": "execute_result"
    }
   ],
   "source": [
    "df.shape"
   ]
  },
  {
   "cell_type": "code",
   "execution_count": 1410,
   "id": "294f209d-0a80-4b1d-ba71-f7c59d750363",
   "metadata": {},
   "outputs": [
    {
     "data": {
      "text/plain": [
       "0    94.0\n",
       "Name: remaining_lease, dtype: float64"
      ]
     },
     "execution_count": 1410,
     "metadata": {},
     "output_type": "execute_result"
    }
   ],
   "source": [
    "df['remaining_lease'].mode()"
   ]
  },
  {
   "cell_type": "code",
   "execution_count": 1411,
   "id": "44397ccb-425d-4e75-ac83-f16ff6938780",
   "metadata": {},
   "outputs": [],
   "source": [
    "df['remaining_lease'].fillna(94.0, inplace=True)"
   ]
  },
  {
   "cell_type": "code",
   "execution_count": 1412,
   "id": "dc652006-bf00-4d08-b9ec-700b8eaba3f1",
   "metadata": {},
   "outputs": [
    {
     "data": {
      "text/plain": [
       "month                  0\n",
       "town                   0\n",
       "flat_type              0\n",
       "block                  0\n",
       "street_name            0\n",
       "floor_area_sqm         0\n",
       "flat_model             0\n",
       "lease_commence_date    0\n",
       "resale_price           0\n",
       "remaining_lease        0\n",
       "year                   0\n",
       "storey_start           0\n",
       "storey_end             0\n",
       "floor_area_sq_ft       0\n",
       "age_of_property        0\n",
       "dtype: int64"
      ]
     },
     "execution_count": 1412,
     "metadata": {},
     "output_type": "execute_result"
    }
   ],
   "source": [
    "df.isnull().sum()"
   ]
  },
  {
   "cell_type": "code",
   "execution_count": 1413,
   "id": "94c60c18-813d-400d-9915-c1f54c3b8758",
   "metadata": {},
   "outputs": [
    {
     "data": {
      "text/plain": [
       "(938218, 15)"
      ]
     },
     "execution_count": 1413,
     "metadata": {},
     "output_type": "execute_result"
    }
   ],
   "source": [
    "df.shape"
   ]
  },
  {
   "cell_type": "code",
   "execution_count": 1414,
   "id": "657a8e1f-04e5-4953-9e63-9a95790bf311",
   "metadata": {},
   "outputs": [],
   "source": [
    "df['Floor_median'] = df[['storey_start', 'storey_end']].median(axis=1)"
   ]
  },
  {
   "cell_type": "code",
   "execution_count": 1415,
   "id": "77553497-57bb-4101-a9de-1e9e355ee223",
   "metadata": {},
   "outputs": [
    {
     "data": {
      "text/html": [
       "<div>\n",
       "<style scoped>\n",
       "    .dataframe tbody tr th:only-of-type {\n",
       "        vertical-align: middle;\n",
       "    }\n",
       "\n",
       "    .dataframe tbody tr th {\n",
       "        vertical-align: top;\n",
       "    }\n",
       "\n",
       "    .dataframe thead th {\n",
       "        text-align: right;\n",
       "    }\n",
       "</style>\n",
       "<table border=\"1\" class=\"dataframe\">\n",
       "  <thead>\n",
       "    <tr style=\"text-align: right;\">\n",
       "      <th></th>\n",
       "      <th>month</th>\n",
       "      <th>town</th>\n",
       "      <th>flat_type</th>\n",
       "      <th>block</th>\n",
       "      <th>street_name</th>\n",
       "      <th>floor_area_sqm</th>\n",
       "      <th>flat_model</th>\n",
       "      <th>lease_commence_date</th>\n",
       "      <th>resale_price</th>\n",
       "      <th>remaining_lease</th>\n",
       "      <th>year</th>\n",
       "      <th>storey_start</th>\n",
       "      <th>storey_end</th>\n",
       "      <th>floor_area_sq_ft</th>\n",
       "      <th>age_of_property</th>\n",
       "      <th>Floor_median</th>\n",
       "    </tr>\n",
       "  </thead>\n",
       "  <tbody>\n",
       "    <tr>\n",
       "      <th>0</th>\n",
       "      <td>1</td>\n",
       "      <td>ANG MO KIO</td>\n",
       "      <td>1 ROOM</td>\n",
       "      <td>309</td>\n",
       "      <td>ANG MO KIO AVE 1</td>\n",
       "      <td>31.0</td>\n",
       "      <td>Improved</td>\n",
       "      <td>1977</td>\n",
       "      <td>9000.0</td>\n",
       "      <td>86.0</td>\n",
       "      <td>1990</td>\n",
       "      <td>10</td>\n",
       "      <td>12</td>\n",
       "      <td>333.6809</td>\n",
       "      <td>13</td>\n",
       "      <td>11.0</td>\n",
       "    </tr>\n",
       "    <tr>\n",
       "      <th>1</th>\n",
       "      <td>1</td>\n",
       "      <td>ANG MO KIO</td>\n",
       "      <td>1 ROOM</td>\n",
       "      <td>309</td>\n",
       "      <td>ANG MO KIO AVE 1</td>\n",
       "      <td>31.0</td>\n",
       "      <td>Improved</td>\n",
       "      <td>1977</td>\n",
       "      <td>6000.0</td>\n",
       "      <td>86.0</td>\n",
       "      <td>1990</td>\n",
       "      <td>4</td>\n",
       "      <td>6</td>\n",
       "      <td>333.6809</td>\n",
       "      <td>13</td>\n",
       "      <td>5.0</td>\n",
       "    </tr>\n",
       "    <tr>\n",
       "      <th>2</th>\n",
       "      <td>1</td>\n",
       "      <td>ANG MO KIO</td>\n",
       "      <td>1 ROOM</td>\n",
       "      <td>309</td>\n",
       "      <td>ANG MO KIO AVE 1</td>\n",
       "      <td>31.0</td>\n",
       "      <td>Improved</td>\n",
       "      <td>1977</td>\n",
       "      <td>8000.0</td>\n",
       "      <td>86.0</td>\n",
       "      <td>1990</td>\n",
       "      <td>10</td>\n",
       "      <td>12</td>\n",
       "      <td>333.6809</td>\n",
       "      <td>13</td>\n",
       "      <td>11.0</td>\n",
       "    </tr>\n",
       "    <tr>\n",
       "      <th>3</th>\n",
       "      <td>1</td>\n",
       "      <td>ANG MO KIO</td>\n",
       "      <td>1 ROOM</td>\n",
       "      <td>309</td>\n",
       "      <td>ANG MO KIO AVE 1</td>\n",
       "      <td>31.0</td>\n",
       "      <td>Improved</td>\n",
       "      <td>1977</td>\n",
       "      <td>6000.0</td>\n",
       "      <td>86.0</td>\n",
       "      <td>1990</td>\n",
       "      <td>7</td>\n",
       "      <td>9</td>\n",
       "      <td>333.6809</td>\n",
       "      <td>13</td>\n",
       "      <td>8.0</td>\n",
       "    </tr>\n",
       "    <tr>\n",
       "      <th>4</th>\n",
       "      <td>1</td>\n",
       "      <td>ANG MO KIO</td>\n",
       "      <td>3 ROOM</td>\n",
       "      <td>216</td>\n",
       "      <td>ANG MO KIO AVE 1</td>\n",
       "      <td>73.0</td>\n",
       "      <td>New Generation</td>\n",
       "      <td>1976</td>\n",
       "      <td>47200.0</td>\n",
       "      <td>85.0</td>\n",
       "      <td>1990</td>\n",
       "      <td>4</td>\n",
       "      <td>6</td>\n",
       "      <td>785.7647</td>\n",
       "      <td>14</td>\n",
       "      <td>5.0</td>\n",
       "    </tr>\n",
       "  </tbody>\n",
       "</table>\n",
       "</div>"
      ],
      "text/plain": [
       "   month        town flat_type block       street_name  floor_area_sqm  \\\n",
       "0      1  ANG MO KIO    1 ROOM   309  ANG MO KIO AVE 1            31.0   \n",
       "1      1  ANG MO KIO    1 ROOM   309  ANG MO KIO AVE 1            31.0   \n",
       "2      1  ANG MO KIO    1 ROOM   309  ANG MO KIO AVE 1            31.0   \n",
       "3      1  ANG MO KIO    1 ROOM   309  ANG MO KIO AVE 1            31.0   \n",
       "4      1  ANG MO KIO    3 ROOM   216  ANG MO KIO AVE 1            73.0   \n",
       "\n",
       "       flat_model  lease_commence_date  resale_price  remaining_lease  year  \\\n",
       "0        Improved                 1977        9000.0             86.0  1990   \n",
       "1        Improved                 1977        6000.0             86.0  1990   \n",
       "2        Improved                 1977        8000.0             86.0  1990   \n",
       "3        Improved                 1977        6000.0             86.0  1990   \n",
       "4  New Generation                 1976       47200.0             85.0  1990   \n",
       "\n",
       "   storey_start  storey_end  floor_area_sq_ft  age_of_property  Floor_median  \n",
       "0            10          12          333.6809               13          11.0  \n",
       "1             4           6          333.6809               13           5.0  \n",
       "2            10          12          333.6809               13          11.0  \n",
       "3             7           9          333.6809               13           8.0  \n",
       "4             4           6          785.7647               14           5.0  "
      ]
     },
     "execution_count": 1415,
     "metadata": {},
     "output_type": "execute_result"
    }
   ],
   "source": [
    "df.head()"
   ]
  },
  {
   "cell_type": "code",
   "execution_count": null,
   "id": "8fca8fae-74b6-478c-afe2-ec517447471f",
   "metadata": {},
   "outputs": [],
   "source": []
  },
  {
   "cell_type": "code",
   "execution_count": 1416,
   "id": "07314b24-9a0c-4c69-81a0-db9432e9df13",
   "metadata": {},
   "outputs": [
    {
     "data": {
      "text/plain": [
       "Index(['month', 'town', 'flat_type', 'block', 'street_name', 'floor_area_sqm',\n",
       "       'flat_model', 'lease_commence_date', 'resale_price', 'remaining_lease',\n",
       "       'year', 'storey_start', 'storey_end', 'floor_area_sq_ft',\n",
       "       'age_of_property', 'Floor_median'],\n",
       "      dtype='object')"
      ]
     },
     "execution_count": 1416,
     "metadata": {},
     "output_type": "execute_result"
    }
   ],
   "source": [
    "df.columns"
   ]
  },
  {
   "cell_type": "code",
   "execution_count": 1417,
   "id": "d3477fb5-d063-40dc-84c1-2731db116421",
   "metadata": {},
   "outputs": [
    {
     "data": {
      "text/html": [
       "<div>\n",
       "<style scoped>\n",
       "    .dataframe tbody tr th:only-of-type {\n",
       "        vertical-align: middle;\n",
       "    }\n",
       "\n",
       "    .dataframe tbody tr th {\n",
       "        vertical-align: top;\n",
       "    }\n",
       "\n",
       "    .dataframe thead th {\n",
       "        text-align: right;\n",
       "    }\n",
       "</style>\n",
       "<table border=\"1\" class=\"dataframe\">\n",
       "  <thead>\n",
       "    <tr style=\"text-align: right;\">\n",
       "      <th></th>\n",
       "      <th>month</th>\n",
       "      <th>lease_commence_date</th>\n",
       "      <th>resale_price</th>\n",
       "      <th>remaining_lease</th>\n",
       "      <th>year</th>\n",
       "      <th>floor_area_sq_ft</th>\n",
       "      <th>Floor_median</th>\n",
       "      <th>age_of_property</th>\n",
       "    </tr>\n",
       "  </thead>\n",
       "  <tbody>\n",
       "    <tr>\n",
       "      <th>0</th>\n",
       "      <td>1</td>\n",
       "      <td>1977</td>\n",
       "      <td>9000.0</td>\n",
       "      <td>86.0</td>\n",
       "      <td>1990</td>\n",
       "      <td>333.6809</td>\n",
       "      <td>11.0</td>\n",
       "      <td>13</td>\n",
       "    </tr>\n",
       "    <tr>\n",
       "      <th>1</th>\n",
       "      <td>1</td>\n",
       "      <td>1977</td>\n",
       "      <td>6000.0</td>\n",
       "      <td>86.0</td>\n",
       "      <td>1990</td>\n",
       "      <td>333.6809</td>\n",
       "      <td>5.0</td>\n",
       "      <td>13</td>\n",
       "    </tr>\n",
       "    <tr>\n",
       "      <th>2</th>\n",
       "      <td>1</td>\n",
       "      <td>1977</td>\n",
       "      <td>8000.0</td>\n",
       "      <td>86.0</td>\n",
       "      <td>1990</td>\n",
       "      <td>333.6809</td>\n",
       "      <td>11.0</td>\n",
       "      <td>13</td>\n",
       "    </tr>\n",
       "    <tr>\n",
       "      <th>3</th>\n",
       "      <td>1</td>\n",
       "      <td>1977</td>\n",
       "      <td>6000.0</td>\n",
       "      <td>86.0</td>\n",
       "      <td>1990</td>\n",
       "      <td>333.6809</td>\n",
       "      <td>8.0</td>\n",
       "      <td>13</td>\n",
       "    </tr>\n",
       "    <tr>\n",
       "      <th>4</th>\n",
       "      <td>1</td>\n",
       "      <td>1976</td>\n",
       "      <td>47200.0</td>\n",
       "      <td>85.0</td>\n",
       "      <td>1990</td>\n",
       "      <td>785.7647</td>\n",
       "      <td>5.0</td>\n",
       "      <td>14</td>\n",
       "    </tr>\n",
       "  </tbody>\n",
       "</table>\n",
       "</div>"
      ],
      "text/plain": [
       "   month  lease_commence_date  resale_price  remaining_lease  year  \\\n",
       "0      1                 1977        9000.0             86.0  1990   \n",
       "1      1                 1977        6000.0             86.0  1990   \n",
       "2      1                 1977        8000.0             86.0  1990   \n",
       "3      1                 1977        6000.0             86.0  1990   \n",
       "4      1                 1976       47200.0             85.0  1990   \n",
       "\n",
       "   floor_area_sq_ft  Floor_median  age_of_property  \n",
       "0          333.6809          11.0               13  \n",
       "1          333.6809           5.0               13  \n",
       "2          333.6809          11.0               13  \n",
       "3          333.6809           8.0               13  \n",
       "4          785.7647           5.0               14  "
      ]
     },
     "execution_count": 1417,
     "metadata": {},
     "output_type": "execute_result"
    }
   ],
   "source": [
    "Categoricaldata = ['town', 'flat_type', 'block', 'street_name', 'flat_model']\n",
    "Numericaldata = ['month', 'lease_commence_date', 'resale_price', 'remaining_lease', 'year', 'floor_area_sq_ft','Floor_median', 'age_of_property']\n",
    "new_df = df[Numericaldata]\n",
    "new_df_c=df[Categoricaldata]\n",
    "new_df.head()"
   ]
  },
  {
   "cell_type": "code",
   "execution_count": 1418,
   "id": "c9ee6501-b8b5-4207-8ac5-6564ac51f807",
   "metadata": {},
   "outputs": [
    {
     "data": {
      "text/html": [
       "<div>\n",
       "<style scoped>\n",
       "    .dataframe tbody tr th:only-of-type {\n",
       "        vertical-align: middle;\n",
       "    }\n",
       "\n",
       "    .dataframe tbody tr th {\n",
       "        vertical-align: top;\n",
       "    }\n",
       "\n",
       "    .dataframe thead th {\n",
       "        text-align: right;\n",
       "    }\n",
       "</style>\n",
       "<table border=\"1\" class=\"dataframe\">\n",
       "  <thead>\n",
       "    <tr style=\"text-align: right;\">\n",
       "      <th></th>\n",
       "      <th>town</th>\n",
       "      <th>flat_type</th>\n",
       "      <th>block</th>\n",
       "      <th>street_name</th>\n",
       "      <th>flat_model</th>\n",
       "    </tr>\n",
       "  </thead>\n",
       "  <tbody>\n",
       "    <tr>\n",
       "      <th>0</th>\n",
       "      <td>ANG MO KIO</td>\n",
       "      <td>1 ROOM</td>\n",
       "      <td>309</td>\n",
       "      <td>ANG MO KIO AVE 1</td>\n",
       "      <td>Improved</td>\n",
       "    </tr>\n",
       "    <tr>\n",
       "      <th>1</th>\n",
       "      <td>ANG MO KIO</td>\n",
       "      <td>1 ROOM</td>\n",
       "      <td>309</td>\n",
       "      <td>ANG MO KIO AVE 1</td>\n",
       "      <td>Improved</td>\n",
       "    </tr>\n",
       "    <tr>\n",
       "      <th>2</th>\n",
       "      <td>ANG MO KIO</td>\n",
       "      <td>1 ROOM</td>\n",
       "      <td>309</td>\n",
       "      <td>ANG MO KIO AVE 1</td>\n",
       "      <td>Improved</td>\n",
       "    </tr>\n",
       "    <tr>\n",
       "      <th>3</th>\n",
       "      <td>ANG MO KIO</td>\n",
       "      <td>1 ROOM</td>\n",
       "      <td>309</td>\n",
       "      <td>ANG MO KIO AVE 1</td>\n",
       "      <td>Improved</td>\n",
       "    </tr>\n",
       "    <tr>\n",
       "      <th>4</th>\n",
       "      <td>ANG MO KIO</td>\n",
       "      <td>3 ROOM</td>\n",
       "      <td>216</td>\n",
       "      <td>ANG MO KIO AVE 1</td>\n",
       "      <td>New Generation</td>\n",
       "    </tr>\n",
       "  </tbody>\n",
       "</table>\n",
       "</div>"
      ],
      "text/plain": [
       "         town flat_type block       street_name      flat_model\n",
       "0  ANG MO KIO    1 ROOM   309  ANG MO KIO AVE 1        Improved\n",
       "1  ANG MO KIO    1 ROOM   309  ANG MO KIO AVE 1        Improved\n",
       "2  ANG MO KIO    1 ROOM   309  ANG MO KIO AVE 1        Improved\n",
       "3  ANG MO KIO    1 ROOM   309  ANG MO KIO AVE 1        Improved\n",
       "4  ANG MO KIO    3 ROOM   216  ANG MO KIO AVE 1  New Generation"
      ]
     },
     "execution_count": 1418,
     "metadata": {},
     "output_type": "execute_result"
    }
   ],
   "source": [
    "new_df_c.head()"
   ]
  },
  {
   "cell_type": "code",
   "execution_count": 1419,
   "id": "a9dd5acb-9efb-4787-8526-eb60280408b8",
   "metadata": {},
   "outputs": [
    {
     "data": {
      "image/png": "[encoded data removed]",
      "text/plain": [
       "<Figure size 1000x800 with 9 Axes>"
      ]
     },
     "metadata": {},
     "output_type": "display_data"
    }
   ],
   "source": [
    "# Define the number of columns and rows for the subplot grid\n",
    "num_cols = 3\n",
    "num_rows = 3\n",
    "\n",
    "# Create subplots\n",
    "fig, axes = plt.subplots(num_rows, num_cols, figsize=(10,8))\n",
    "\n",
    "# Flatten the axes array for easy indexing\n",
    "axes = axes.flatten()\n",
    "\n",
    "# Loop through the DataFrame columns and plot\n",
    "for i, column in enumerate(new_df.columns):\n",
    "    sns.boxplot(new_df[column], ax=axes[i])  # Replace with desired plot type\n",
    "    axes[i].set_title(f'Boxplot of {column}')\n",
    "\n",
    "# Adjust layout\n",
    "plt.tight_layout()\n",
    "plt.show()"
   ]
  },
  {
   "cell_type": "code",
   "execution_count": 1420,
   "id": "e50588e6-cf47-4483-8dd4-6e552069c22e",
   "metadata": {},
   "outputs": [
    {
     "data": {
      "image/png": "[encoded data removed]",
      "text/plain": [
       "<Figure size 1000x800 with 5 Axes>"
      ]
     },
     "metadata": {},
     "output_type": "display_data"
    }
   ],
   "source": [
    "# Define the number of columns and rows for the subplot grid\n",
    "num_cols = 1\n",
    "num_rows = 5\n",
    "\n",
    "# Create subplots\n",
    "fig, axes = plt.subplots(num_rows, num_cols, figsize=(10, 8))\n",
    "\n",
    "# Flatten the axes array for easy indexing\n",
    "axes = axes.flatten()\n",
    "\n",
    "# Loop through the DataFrame columns and plot\n",
    "for i, column in enumerate(new_df_c.columns):\n",
    "    sns.histplot(new_df_c[column], ax=axes[i], bins=10, kde=True)  # Replace with desired plot type\n",
    "    axes[i].set_title(f'Histogram of {column}')\n",
    "    axes[i].tick_params(axis='x', labelsize=8)\n",
    "axes[i].set_xticklabels(axes[i].get_xticks(), rotation=45, ha='right')\n",
    "\n",
    "# Adjust layout\n",
    "plt.tight_layout()\n",
    "\n",
    "plt.show()"
   ]
  },
  {
   "cell_type": "code",
   "execution_count": 1421,
   "id": "e7cde4dc-523b-4414-8bb6-ff4886741faf",
   "metadata": {},
   "outputs": [
    {
     "name": "stdout",
     "output_type": "stream",
     "text": [
      "        month        town  flat_type block       street_name  floor_area_sqm  \\\n",
      "0           1  ANG MO KIO     1 ROOM   309  ANG MO KIO AVE 1            31.0   \n",
      "1           1  ANG MO KIO     1 ROOM   309  ANG MO KIO AVE 1            31.0   \n",
      "2           1  ANG MO KIO     1 ROOM   309  ANG MO KIO AVE 1            31.0   \n",
      "3           1  ANG MO KIO     1 ROOM   309  ANG MO KIO AVE 1            31.0   \n",
      "4           1  ANG MO KIO     3 ROOM   216  ANG MO KIO AVE 1            73.0   \n",
      "...       ...         ...        ...   ...               ...             ...   \n",
      "938264     10      YISHUN     5 ROOM   870      YISHUN ST 81           122.0   \n",
      "938265     10      YISHUN  EXECUTIVE   654      YISHUN AVE 4           164.0   \n",
      "938266     10      YISHUN  EXECUTIVE   654      YISHUN AVE 4           164.0   \n",
      "938267     10      YISHUN  EXECUTIVE   358    YISHUN RING RD           145.0   \n",
      "938268     10      YISHUN  EXECUTIVE   824      YISHUN ST 81           142.0   \n",
      "\n",
      "            flat_model  lease_commence_date  resale_price  remaining_lease  \\\n",
      "0             Improved                 1977        9000.0             86.0   \n",
      "1             Improved                 1977        6000.0             86.0   \n",
      "2             Improved                 1977        8000.0             86.0   \n",
      "3             Improved                 1977        6000.0             86.0   \n",
      "4       New Generation                 1976       47200.0             85.0   \n",
      "...                ...                  ...           ...              ...   \n",
      "938264        Improved                 1987      690000.0             94.0   \n",
      "938265       Apartment                 1992     1000000.0             94.0   \n",
      "938266       Apartment                 1992      995000.0             94.0   \n",
      "938267      Maisonette                 1988      888888.0             94.0   \n",
      "938268       Apartment                 1987      980000.0             94.0   \n",
      "\n",
      "        year  storey_start  storey_end  floor_area_sq_ft  age_of_property  \\\n",
      "0       1990            10          12          333.6809               13   \n",
      "1       1990             4           6          333.6809               13   \n",
      "2       1990            10          12          333.6809               13   \n",
      "3       1990             7           9          333.6809               13   \n",
      "4       1990             4           6          785.7647               14   \n",
      "...      ...           ...         ...               ...              ...   \n",
      "938264  2024             4           6         1313.1958               37   \n",
      "938265  2024            10          12         1765.2796               32   \n",
      "938266  2024             4           6         1765.2796               32   \n",
      "938267  2024             1           3         1560.7655               36   \n",
      "938268  2024            10          12         1528.4738               37   \n",
      "\n",
      "        Floor_median  anomaly  \n",
      "0               11.0       -1  \n",
      "1                5.0       -1  \n",
      "2               11.0       -1  \n",
      "3                8.0       -1  \n",
      "4                5.0        1  \n",
      "...              ...      ...  \n",
      "938264           5.0        1  \n",
      "938265          11.0       -1  \n",
      "938266           5.0       -1  \n",
      "938267           2.0       -1  \n",
      "938268          11.0       -1  \n",
      "\n",
      "[938218 rows x 17 columns]\n"
     ]
    }
   ],
   "source": [
    "features = df[[ 'floor_area_sqm', 'lease_commence_date', 'resale_price', 'remaining_lease', 'floor_area_sq_ft','Floor_median', 'age_of_property']]\n",
    "\n",
    "\n",
    "    # Initialize the Isolation Forest model\n",
    "iso_forest = IsolationForest(contamination=0.1, random_state=4)\n",
    "\n",
    "# Fit the model\n",
    "iso_forest.fit(features)\n",
    "\n",
    "# Predict anomalies (-1 for anomalies, 1 for normal points)\n",
    "df['anomaly'] = iso_forest.predict(features)\n",
    "\n",
    "\n",
    "    \n",
    "print(df)"
   ]
  },
  {
   "cell_type": "code",
   "execution_count": 1422,
   "id": "c3a2d2c9-4537-4413-9b20-ec18f2f0fecc",
   "metadata": {},
   "outputs": [
    {
     "name": "stdout",
     "output_type": "stream",
     "text": [
      "        month        town flat_type block       street_name  floor_area_sqm  \\\n",
      "4           1  ANG MO KIO    3 ROOM   216  ANG MO KIO AVE 1            73.0   \n",
      "5           1  ANG MO KIO    3 ROOM   211  ANG MO KIO AVE 3            67.0   \n",
      "6           1  ANG MO KIO    3 ROOM   202  ANG MO KIO AVE 3            67.0   \n",
      "7           1  ANG MO KIO    3 ROOM   235  ANG MO KIO AVE 3            67.0   \n",
      "8           1  ANG MO KIO    3 ROOM   235  ANG MO KIO AVE 3            67.0   \n",
      "...       ...         ...       ...   ...               ...             ...   \n",
      "938259     10      YISHUN    5 ROOM  504C      YISHUN ST 51           113.0   \n",
      "938260     10      YISHUN    5 ROOM  502D      YISHUN ST 51           112.0   \n",
      "938261     10      YISHUN    5 ROOM  502B      YISHUN ST 51           112.0   \n",
      "938262     10      YISHUN    5 ROOM   644      YISHUN ST 61           123.0   \n",
      "938264     10      YISHUN    5 ROOM   870      YISHUN ST 81           122.0   \n",
      "\n",
      "            flat_model  lease_commence_date  resale_price  remaining_lease  \\\n",
      "4       New Generation                 1976       47200.0             85.0   \n",
      "5       New Generation                 1977       46000.0             86.0   \n",
      "6       New Generation                 1977       42000.0             86.0   \n",
      "7       New Generation                 1977       38000.0             86.0   \n",
      "8       New Generation                 1977       40000.0             86.0   \n",
      "...                ...                  ...           ...              ...   \n",
      "938259        Improved                 2016      747000.0             94.0   \n",
      "938260        Improved                 2018      725000.0             94.0   \n",
      "938261        Improved                 2018      748888.0             94.0   \n",
      "938262        Improved                 1988      728000.0             94.0   \n",
      "938264        Improved                 1987      690000.0             94.0   \n",
      "\n",
      "        year  storey_start  storey_end  floor_area_sq_ft  age_of_property  \\\n",
      "4       1990             4           6          785.7647               14   \n",
      "5       1990             1           3          721.1813               13   \n",
      "6       1990             7           9          721.1813               13   \n",
      "7       1990            10          12          721.1813               13   \n",
      "8       1990             4           6          721.1813               13   \n",
      "...      ...           ...         ...               ...              ...   \n",
      "938259  2024            10          12         1216.3207                8   \n",
      "938260  2024             4           6         1205.5568                6   \n",
      "938261  2024             7           9         1205.5568                6   \n",
      "938262  2024             7           9         1323.9597               36   \n",
      "938264  2024             4           6         1313.1958               37   \n",
      "\n",
      "        Floor_median  anomaly  \n",
      "4                5.0        1  \n",
      "5                2.0        1  \n",
      "6                8.0        1  \n",
      "7               11.0        1  \n",
      "8                5.0        1  \n",
      "...              ...      ...  \n",
      "938259          11.0        1  \n",
      "938260           5.0        1  \n",
      "938261           8.0        1  \n",
      "938262           8.0        1  \n",
      "938264           5.0        1  \n",
      "\n",
      "[844396 rows x 17 columns]\n"
     ]
    }
   ],
   "source": [
    "df = df[df['anomaly'] != -1]\n",
    "print(df)"
   ]
  },
  {
   "cell_type": "code",
   "execution_count": 1423,
   "id": "c23836b6-2029-49e5-9e0c-619ad7780871",
   "metadata": {},
   "outputs": [
    {
     "data": {
      "text/plain": [
       "month                    int64\n",
       "town                    object\n",
       "flat_type               object\n",
       "block                   object\n",
       "street_name             object\n",
       "floor_area_sqm         float64\n",
       "flat_model              object\n",
       "lease_commence_date      int64\n",
       "resale_price           float64\n",
       "remaining_lease        float64\n",
       "year                     int64\n",
       "storey_start             int64\n",
       "storey_end               int64\n",
       "floor_area_sq_ft       float64\n",
       "age_of_property          int64\n",
       "Floor_median           float64\n",
       "anomaly                  int32\n",
       "dtype: object"
      ]
     },
     "execution_count": 1423,
     "metadata": {},
     "output_type": "execute_result"
    }
   ],
   "source": [
    "df.dtypes\n"
   ]
  },
  {
   "cell_type": "code",
   "execution_count": 1424,
   "id": "e8d210a4-0d0c-4864-b718-e16eea73cc06",
   "metadata": {},
   "outputs": [
    {
     "data": {
      "text/plain": [
       "month                  0\n",
       "town                   0\n",
       "flat_type              0\n",
       "block                  0\n",
       "street_name            0\n",
       "floor_area_sqm         0\n",
       "flat_model             0\n",
       "lease_commence_date    0\n",
       "resale_price           0\n",
       "remaining_lease        0\n",
       "year                   0\n",
       "storey_start           0\n",
       "storey_end             0\n",
       "floor_area_sq_ft       0\n",
       "age_of_property        0\n",
       "Floor_median           0\n",
       "anomaly                0\n",
       "dtype: int64"
      ]
     },
     "execution_count": 1424,
     "metadata": {},
     "output_type": "execute_result"
    }
   ],
   "source": [
    "df.isnull().sum()"
   ]
  },
  {
   "cell_type": "code",
   "execution_count": 1425,
   "id": "6bc62b13-41f0-4268-8125-7589cf2c39a3",
   "metadata": {},
   "outputs": [
    {
     "data": {
      "text/plain": [
       "floor_area_sqm         float64\n",
       "lease_commence_date      int64\n",
       "resale_price           float64\n",
       "remaining_lease        float64\n",
       "floor_area_sq_ft       float64\n",
       "Floor_median           float64\n",
       "age_of_property          int64\n",
       "dtype: object"
      ]
     },
     "execution_count": 1425,
     "metadata": {},
     "output_type": "execute_result"
    }
   ],
   "source": [
    "features_ = [ 'floor_area_sqm', 'lease_commence_date', 'resale_price', 'remaining_lease', 'floor_area_sq_ft','Floor_median', 'age_of_property']\n",
    "df_iso = df[features_]\n",
    "df[features_].dtypes\n"
   ]
  },
  {
   "cell_type": "code",
   "execution_count": 1426,
   "id": "959e0603-bfb5-408e-876e-70984be740e8",
   "metadata": {},
   "outputs": [
    {
     "data": {
      "image/png": "[encoded data removed]",
      "text/plain": [
       "<Figure size 800x2000 with 7 Axes>"
      ]
     },
     "metadata": {},
     "output_type": "display_data"
    }
   ],
   "source": [
    "# Define the number of columns and rows for the subplot grid\n",
    "num_cols = 1\n",
    "num_rows = 7\n",
    "\n",
    "# Create subplots\n",
    "fig, axes = plt.subplots(num_rows, num_cols, figsize=(8,20))\n",
    "\n",
    "# Flatten the axes array for easy indexing\n",
    "#axes = axes.flatten()\n",
    "\n",
    "# Loop through the DataFrame columns and plot\n",
    "for i, column in enumerate(df_iso.columns):\n",
    "    sns.boxplot(data =df_iso, y=df_iso[column], ax=axes[i])  # Replace with desired plot type\n",
    "    axes[i].set_title(f'{column} after Isolationforest')\n",
    "\n",
    "# Adjust layout\n",
    "plt.tight_layout()\n",
    "plt.show()"
   ]
  },
  {
   "cell_type": "code",
   "execution_count": 1427,
   "id": "e725bbe1-ae07-477b-9c2f-b20f13f0d038",
   "metadata": {},
   "outputs": [
    {
     "data": {
      "image/png": "[encoded data removed]",
      "text/plain": [
       "<Figure size 640x480 with 1 Axes>"
      ]
     },
     "metadata": {},
     "output_type": "display_data"
    },
    {
     "data": {
      "image/png": "[encoded data removed]",
      "text/plain": [
       "<Figure size 640x480 with 1 Axes>"
      ]
     },
     "metadata": {},
     "output_type": "display_data"
    },
    {
     "data": {
      "image/png": "[encoded data removed]",
      "text/plain": [
       "<Figure size 640x480 with 1 Axes>"
      ]
     },
     "metadata": {},
     "output_type": "display_data"
    }
   ],
   "source": [
    "##data transformation using log function\n",
    "\n",
    "df['resale_price'] = np.log(df['resale_price'])\n",
    "sns.distplot(df['resale_price'])\n",
    "plt.show()\n",
    "\n",
    "df['lease_commence_date'] = np.log(df['lease_commence_date'])\n",
    "sns.distplot(df['remaining_lease'])\n",
    "plt.show()\n",
    "\n",
    "\n",
    "df['Floor_median'] = np.log(df['Floor_median'])\n",
    "sns.distplot(df['Floor_median'])\n",
    "plt.show()\n",
    "\n",
    "\n"
   ]
  },
  {
   "cell_type": "code",
   "execution_count": 1428,
   "id": "1b8a5fcb-5420-404a-b59e-40d4655ff833",
   "metadata": {},
   "outputs": [
    {
     "data": {
      "text/html": [
       "<div>\n",
       "<style scoped>\n",
       "    .dataframe tbody tr th:only-of-type {\n",
       "        vertical-align: middle;\n",
       "    }\n",
       "\n",
       "    .dataframe tbody tr th {\n",
       "        vertical-align: top;\n",
       "    }\n",
       "\n",
       "    .dataframe thead th {\n",
       "        text-align: right;\n",
       "    }\n",
       "</style>\n",
       "<table border=\"1\" class=\"dataframe\">\n",
       "  <thead>\n",
       "    <tr style=\"text-align: right;\">\n",
       "      <th></th>\n",
       "      <th>lease_commence_date</th>\n",
       "      <th>resale_price</th>\n",
       "      <th>remaining_lease</th>\n",
       "    </tr>\n",
       "  </thead>\n",
       "  <tbody>\n",
       "    <tr>\n",
       "      <th>4</th>\n",
       "      <td>7.588830</td>\n",
       "      <td>10.762149</td>\n",
       "      <td>85.0</td>\n",
       "    </tr>\n",
       "    <tr>\n",
       "      <th>5</th>\n",
       "      <td>7.589336</td>\n",
       "      <td>10.736397</td>\n",
       "      <td>86.0</td>\n",
       "    </tr>\n",
       "    <tr>\n",
       "      <th>6</th>\n",
       "      <td>7.589336</td>\n",
       "      <td>10.645425</td>\n",
       "      <td>86.0</td>\n",
       "    </tr>\n",
       "    <tr>\n",
       "      <th>7</th>\n",
       "      <td>7.589336</td>\n",
       "      <td>10.545341</td>\n",
       "      <td>86.0</td>\n",
       "    </tr>\n",
       "    <tr>\n",
       "      <th>8</th>\n",
       "      <td>7.589336</td>\n",
       "      <td>10.596635</td>\n",
       "      <td>86.0</td>\n",
       "    </tr>\n",
       "  </tbody>\n",
       "</table>\n",
       "</div>"
      ],
      "text/plain": [
       "   lease_commence_date  resale_price  remaining_lease\n",
       "4             7.588830     10.762149             85.0\n",
       "5             7.589336     10.736397             86.0\n",
       "6             7.589336     10.645425             86.0\n",
       "7             7.589336     10.545341             86.0\n",
       "8             7.589336     10.596635             86.0"
      ]
     },
     "execution_count": 1428,
     "metadata": {},
     "output_type": "execute_result"
    }
   ],
   "source": [
    "\n",
    "Numericaldata_ = ['lease_commence_date', 'resale_price', 'remaining_lease']\n",
    "new_df_ = df[Numericaldata_]\n",
    "new_df_.head()"
   ]
  },
  {
   "cell_type": "code",
   "execution_count": 1429,
   "id": "36bf10c7-37d8-4f8f-8485-3bae102b3c9a",
   "metadata": {},
   "outputs": [
    {
     "name": "stdout",
     "output_type": "stream",
     "text": [
      "Index(['lease_commence_date', 'resale_price', 'remaining_lease'], dtype='object')\n"
     ]
    }
   ],
   "source": [
    "print(new_df_.columns)"
   ]
  },
  {
   "cell_type": "code",
   "execution_count": 1430,
   "id": "364c713b-b259-4084-9630-7896edb06e9f",
   "metadata": {},
   "outputs": [
    {
     "data": {
      "image/png": "[encoded data removed]",
      "text/plain": [
       "<Figure size 1500x500 with 3 Axes>"
      ]
     },
     "metadata": {},
     "output_type": "display_data"
    }
   ],
   "source": [
    "# Define the number of columns and rows for the subplot grid\n",
    "num_cols = 3\n",
    "num_rows = 1\n",
    "\n",
    "# Create subplots\n",
    "fig, axes = plt.subplots(num_rows, num_cols, figsize=(15,5))\n",
    "\n",
    "# Flatten the axes array for easy indexing\n",
    "#axes = axes.flatten()\n",
    "\n",
    "# Loop through the DataFrame columns and plot\n",
    "for i, column in enumerate(new_df_.columns):\n",
    "    sns.boxplot(data =new_df_, y=new_df_[column], ax=axes[i])  # Replace with desired plot type\n",
    "    axes[i].set_title(f'{column} after Isolationforest & log transformation')\n",
    "\n",
    "# Adjust layout\n",
    "plt.tight_layout()\n",
    "plt.show()"
   ]
  },
  {
   "cell_type": "code",
   "execution_count": 1431,
   "id": "4ab9a2b7-d8f3-4e59-8d21-d14e5076ca66",
   "metadata": {},
   "outputs": [],
   "source": [
    "\n",
    "def outlier(df, column):\n",
    "   \n",
    "    # Step 1: Calculate Q1, Q3, and IQR\n",
    "    Q1 = df[column].quantile(0.25)\n",
    "    Q3 = df[column].quantile(0.75)\n",
    "    IQR = Q3 - Q1\n",
    "    \n",
    "    # Step 2: Identify outliers\n",
    "    lower_bound = Q1 - 1.5 * IQR\n",
    "    upper_bound = Q3 + 1.5 * IQR\n",
    "    \n",
    "    # If you prefer to cap the outliers instead of removing:\n",
    "    df[column] = df[column].clip(lower=lower_bound, upper=upper_bound)\n"
   ]
  },
  {
   "cell_type": "code",
   "execution_count": 1432,
   "id": "a608a158-754d-4914-8678-38a2af4bcfdd",
   "metadata": {},
   "outputs": [],
   "source": [
    "outlier(df,'remaining_lease')\n",
    "outlier(df,'lease_commence_date')\n",
    "outlier(df,'resale_price')"
   ]
  },
  {
   "cell_type": "code",
   "execution_count": 1433,
   "id": "51cf4669-1589-455c-bbc6-4c21c16abf61",
   "metadata": {},
   "outputs": [
    {
     "data": {
      "text/html": [
       "<div>\n",
       "<style scoped>\n",
       "    .dataframe tbody tr th:only-of-type {\n",
       "        vertical-align: middle;\n",
       "    }\n",
       "\n",
       "    .dataframe tbody tr th {\n",
       "        vertical-align: top;\n",
       "    }\n",
       "\n",
       "    .dataframe thead th {\n",
       "        text-align: right;\n",
       "    }\n",
       "</style>\n",
       "<table border=\"1\" class=\"dataframe\">\n",
       "  <thead>\n",
       "    <tr style=\"text-align: right;\">\n",
       "      <th></th>\n",
       "      <th>lease_commence_date</th>\n",
       "      <th>remaining_lease</th>\n",
       "      <th>resale_price</th>\n",
       "    </tr>\n",
       "  </thead>\n",
       "  <tbody>\n",
       "    <tr>\n",
       "      <th>4</th>\n",
       "      <td>7.588830</td>\n",
       "      <td>85.0</td>\n",
       "      <td>11.032608</td>\n",
       "    </tr>\n",
       "    <tr>\n",
       "      <th>5</th>\n",
       "      <td>7.589336</td>\n",
       "      <td>86.0</td>\n",
       "      <td>11.032608</td>\n",
       "    </tr>\n",
       "    <tr>\n",
       "      <th>6</th>\n",
       "      <td>7.589336</td>\n",
       "      <td>86.0</td>\n",
       "      <td>11.032608</td>\n",
       "    </tr>\n",
       "    <tr>\n",
       "      <th>7</th>\n",
       "      <td>7.589336</td>\n",
       "      <td>86.0</td>\n",
       "      <td>11.032608</td>\n",
       "    </tr>\n",
       "    <tr>\n",
       "      <th>8</th>\n",
       "      <td>7.589336</td>\n",
       "      <td>86.0</td>\n",
       "      <td>11.032608</td>\n",
       "    </tr>\n",
       "  </tbody>\n",
       "</table>\n",
       "</div>"
      ],
      "text/plain": [
       "   lease_commence_date  remaining_lease  resale_price\n",
       "4             7.588830             85.0     11.032608\n",
       "5             7.589336             86.0     11.032608\n",
       "6             7.589336             86.0     11.032608\n",
       "7             7.589336             86.0     11.032608\n",
       "8             7.589336             86.0     11.032608"
      ]
     },
     "execution_count": 1433,
     "metadata": {},
     "output_type": "execute_result"
    }
   ],
   "source": [
    "Outliers = ['lease_commence_date', 'remaining_lease', 'resale_price']\n",
    "df_o = df[Outliers]\n",
    "df_o.head()"
   ]
  },
  {
   "cell_type": "code",
   "execution_count": 1434,
   "id": "988149a0-40cf-4740-95ae-912a9141955f",
   "metadata": {},
   "outputs": [
    {
     "data": {
      "image/png": "[encoded data removed]",
      "text/plain": [
       "<Figure size 1500x500 with 3 Axes>"
      ]
     },
     "metadata": {},
     "output_type": "display_data"
    }
   ],
   "source": [
    "\n",
    "# Define the number of columns and rows for the subplot grid\n",
    "num_cols = 3\n",
    "num_rows = 1\n",
    "\n",
    "# Create subplots\n",
    "fig, axes = plt.subplots(num_rows, num_cols, figsize=(15,5))\n",
    "\n",
    "# Flatten the axes array for easy indexing\n",
    "#axes = axes.flatten()\n",
    "\n",
    "# Loop through the DataFrame columns and plot\n",
    "for i, column in enumerate(df_o.columns):\n",
    "    sns.boxplot(data =df_o, y=df_o[column], ax=axes[i])  # Replace with desired plot type\n",
    "    axes[i].set_title(f'{column} after IQR')\n",
    "\n",
    "# Adjust layout\n",
    "plt.tight_layout()\n",
    "plt.show()\n"
   ]
  },
  {
   "cell_type": "code",
   "execution_count": 1435,
   "id": "b67d48b0-c81e-4024-8628-deaaf2e66fe4",
   "metadata": {},
   "outputs": [],
   "source": [
    "Numericaldata_final = ['month', 'lease_commence_date', 'resale_price', 'remaining_lease', 'year', 'floor_area_sq_ft','Floor_median', 'age_of_property']\n",
    "df_final= df[Numericaldata_final]\n"
   ]
  },
  {
   "cell_type": "code",
   "execution_count": 1436,
   "id": "41687de1-bf16-42d7-8a54-83b7359e622f",
   "metadata": {},
   "outputs": [
    {
     "data": {
      "image/png": "[encoded data removed]",
      "text/plain": [
       "<Figure size 500x2000 with 8 Axes>"
      ]
     },
     "metadata": {},
     "output_type": "display_data"
    }
   ],
   "source": [
    "\n",
    "# Define the number of columns and rows for the subplot grid\n",
    "num_cols = 1\n",
    "num_rows = 8\n",
    "\n",
    "# Create subplots\n",
    "fig, axes = plt.subplots(num_rows, num_cols, figsize=(5,20))\n",
    "\n",
    "# Flatten the axes array for easy indexing\n",
    "#axes = axes.flatten()\n",
    "\n",
    "# Loop through the DataFrame columns and plot\n",
    "for i, column in enumerate(df_final.columns):\n",
    "    sns.boxplot(data =df_final, y=df_final[column], ax=axes[i])  # Replace with desired plot type\n",
    "    axes[i].set_title(f'{column}_final data')\n",
    "\n",
    "# Adjust layout\n",
    "plt.tight_layout()\n",
    "plt.show()\n"
   ]
  },
  {
   "cell_type": "code",
   "execution_count": 1437,
   "id": "6fd4c373-f9f3-44a5-8e68-f1bbc24e6900",
   "metadata": {},
   "outputs": [
    {
     "data": {
      "text/plain": [
       "Index(['month', 'town', 'flat_type', 'block', 'street_name', 'floor_area_sqm',\n",
       "       'flat_model', 'lease_commence_date', 'resale_price', 'remaining_lease',\n",
       "       'year', 'storey_start', 'storey_end', 'floor_area_sq_ft',\n",
       "       'age_of_property', 'Floor_median', 'anomaly'],\n",
       "      dtype='object')"
      ]
     },
     "execution_count": 1437,
     "metadata": {},
     "output_type": "execute_result"
    }
   ],
   "source": [
    "df.columns"
   ]
  },
  {
   "cell_type": "code",
   "execution_count": 1438,
   "id": "3064e120-358c-413a-a128-a71da8193df2",
   "metadata": {},
   "outputs": [],
   "source": [
    "#drop the columns \n",
    "df.drop(columns=['floor_area_sqm','storey_start','storey_end','anomaly'],inplace=True)\n"
   ]
  },
  {
   "cell_type": "code",
   "execution_count": 1439,
   "id": "e36dbc53-3524-4f06-8a6a-b65f4ac46a47",
   "metadata": {},
   "outputs": [
    {
     "data": {
      "text/html": [
       "<div>\n",
       "<style scoped>\n",
       "    .dataframe tbody tr th:only-of-type {\n",
       "        vertical-align: middle;\n",
       "    }\n",
       "\n",
       "    .dataframe tbody tr th {\n",
       "        vertical-align: top;\n",
       "    }\n",
       "\n",
       "    .dataframe thead th {\n",
       "        text-align: right;\n",
       "    }\n",
       "</style>\n",
       "<table border=\"1\" class=\"dataframe\">\n",
       "  <thead>\n",
       "    <tr style=\"text-align: right;\">\n",
       "      <th></th>\n",
       "      <th>month</th>\n",
       "      <th>town</th>\n",
       "      <th>flat_type</th>\n",
       "      <th>block</th>\n",
       "      <th>street_name</th>\n",
       "      <th>flat_model</th>\n",
       "      <th>lease_commence_date</th>\n",
       "      <th>resale_price</th>\n",
       "      <th>remaining_lease</th>\n",
       "      <th>year</th>\n",
       "      <th>floor_area_sq_ft</th>\n",
       "      <th>age_of_property</th>\n",
       "      <th>Floor_median</th>\n",
       "    </tr>\n",
       "  </thead>\n",
       "  <tbody>\n",
       "    <tr>\n",
       "      <th>4</th>\n",
       "      <td>1</td>\n",
       "      <td>ANG MO KIO</td>\n",
       "      <td>3 ROOM</td>\n",
       "      <td>216</td>\n",
       "      <td>ANG MO KIO AVE 1</td>\n",
       "      <td>New Generation</td>\n",
       "      <td>7.588830</td>\n",
       "      <td>11.032608</td>\n",
       "      <td>85.0</td>\n",
       "      <td>1990</td>\n",
       "      <td>785.7647</td>\n",
       "      <td>14</td>\n",
       "      <td>1.609438</td>\n",
       "    </tr>\n",
       "    <tr>\n",
       "      <th>5</th>\n",
       "      <td>1</td>\n",
       "      <td>ANG MO KIO</td>\n",
       "      <td>3 ROOM</td>\n",
       "      <td>211</td>\n",
       "      <td>ANG MO KIO AVE 3</td>\n",
       "      <td>New Generation</td>\n",
       "      <td>7.589336</td>\n",
       "      <td>11.032608</td>\n",
       "      <td>86.0</td>\n",
       "      <td>1990</td>\n",
       "      <td>721.1813</td>\n",
       "      <td>13</td>\n",
       "      <td>0.693147</td>\n",
       "    </tr>\n",
       "    <tr>\n",
       "      <th>6</th>\n",
       "      <td>1</td>\n",
       "      <td>ANG MO KIO</td>\n",
       "      <td>3 ROOM</td>\n",
       "      <td>202</td>\n",
       "      <td>ANG MO KIO AVE 3</td>\n",
       "      <td>New Generation</td>\n",
       "      <td>7.589336</td>\n",
       "      <td>11.032608</td>\n",
       "      <td>86.0</td>\n",
       "      <td>1990</td>\n",
       "      <td>721.1813</td>\n",
       "      <td>13</td>\n",
       "      <td>2.079442</td>\n",
       "    </tr>\n",
       "    <tr>\n",
       "      <th>7</th>\n",
       "      <td>1</td>\n",
       "      <td>ANG MO KIO</td>\n",
       "      <td>3 ROOM</td>\n",
       "      <td>235</td>\n",
       "      <td>ANG MO KIO AVE 3</td>\n",
       "      <td>New Generation</td>\n",
       "      <td>7.589336</td>\n",
       "      <td>11.032608</td>\n",
       "      <td>86.0</td>\n",
       "      <td>1990</td>\n",
       "      <td>721.1813</td>\n",
       "      <td>13</td>\n",
       "      <td>2.397895</td>\n",
       "    </tr>\n",
       "    <tr>\n",
       "      <th>8</th>\n",
       "      <td>1</td>\n",
       "      <td>ANG MO KIO</td>\n",
       "      <td>3 ROOM</td>\n",
       "      <td>235</td>\n",
       "      <td>ANG MO KIO AVE 3</td>\n",
       "      <td>New Generation</td>\n",
       "      <td>7.589336</td>\n",
       "      <td>11.032608</td>\n",
       "      <td>86.0</td>\n",
       "      <td>1990</td>\n",
       "      <td>721.1813</td>\n",
       "      <td>13</td>\n",
       "      <td>1.609438</td>\n",
       "    </tr>\n",
       "  </tbody>\n",
       "</table>\n",
       "</div>"
      ],
      "text/plain": [
       "   month        town flat_type block       street_name      flat_model  \\\n",
       "4      1  ANG MO KIO    3 ROOM   216  ANG MO KIO AVE 1  New Generation   \n",
       "5      1  ANG MO KIO    3 ROOM   211  ANG MO KIO AVE 3  New Generation   \n",
       "6      1  ANG MO KIO    3 ROOM   202  ANG MO KIO AVE 3  New Generation   \n",
       "7      1  ANG MO KIO    3 ROOM   235  ANG MO KIO AVE 3  New Generation   \n",
       "8      1  ANG MO KIO    3 ROOM   235  ANG MO KIO AVE 3  New Generation   \n",
       "\n",
       "   lease_commence_date  resale_price  remaining_lease  year  floor_area_sq_ft  \\\n",
       "4             7.588830     11.032608             85.0  1990          785.7647   \n",
       "5             7.589336     11.032608             86.0  1990          721.1813   \n",
       "6             7.589336     11.032608             86.0  1990          721.1813   \n",
       "7             7.589336     11.032608             86.0  1990          721.1813   \n",
       "8             7.589336     11.032608             86.0  1990          721.1813   \n",
       "\n",
       "   age_of_property  Floor_median  \n",
       "4               14      1.609438  \n",
       "5               13      0.693147  \n",
       "6               13      2.079442  \n",
       "7               13      2.397895  \n",
       "8               13      1.609438  "
      ]
     },
     "execution_count": 1439,
     "metadata": {},
     "output_type": "execute_result"
    }
   ],
   "source": [
    "df.head()"
   ]
  },
  {
   "cell_type": "code",
   "execution_count": 1440,
   "id": "a63474cf-39f7-45d6-892c-1638cd9a9839",
   "metadata": {},
   "outputs": [
    {
     "name": "stdout",
     "output_type": "stream",
     "text": [
      "        month  town flat_type block       street_name      flat_model  \\\n",
      "4           1   0.0    3 ROOM   216  ANG MO KIO AVE 1  New Generation   \n",
      "5           1   0.0    3 ROOM   211  ANG MO KIO AVE 3  New Generation   \n",
      "6           1   0.0    3 ROOM   202  ANG MO KIO AVE 3  New Generation   \n",
      "7           1   0.0    3 ROOM   235  ANG MO KIO AVE 3  New Generation   \n",
      "8           1   0.0    3 ROOM   235  ANG MO KIO AVE 3  New Generation   \n",
      "...       ...   ...       ...   ...               ...             ...   \n",
      "938259     10  26.0    5 ROOM  504C      YISHUN ST 51        Improved   \n",
      "938260     10  26.0    5 ROOM  502D      YISHUN ST 51        Improved   \n",
      "938261     10  26.0    5 ROOM  502B      YISHUN ST 51        Improved   \n",
      "938262     10  26.0    5 ROOM   644      YISHUN ST 61        Improved   \n",
      "938264     10  26.0    5 ROOM   870      YISHUN ST 81        Improved   \n",
      "\n",
      "        lease_commence_date  resale_price  remaining_lease  year  \\\n",
      "4                  7.588830     11.032608             85.0  1990   \n",
      "5                  7.589336     11.032608             86.0  1990   \n",
      "6                  7.589336     11.032608             86.0  1990   \n",
      "7                  7.589336     11.032608             86.0  1990   \n",
      "8                  7.589336     11.032608             86.0  1990   \n",
      "...                     ...           ...              ...   ...   \n",
      "938259             7.608871     13.523820             94.0  2024   \n",
      "938260             7.609459     13.493927             94.0  2024   \n",
      "938261             7.609459     13.526345             94.0  2024   \n",
      "938262             7.594884     13.498056             94.0  2024   \n",
      "938264             7.594381     13.444447             94.0  2024   \n",
      "\n",
      "        floor_area_sq_ft  age_of_property  Floor_median  \n",
      "4               785.7647               14      1.609438  \n",
      "5               721.1813               13      0.693147  \n",
      "6               721.1813               13      2.079442  \n",
      "7               721.1813               13      2.397895  \n",
      "8               721.1813               13      1.609438  \n",
      "...                  ...              ...           ...  \n",
      "938259         1216.3207                8      2.397895  \n",
      "938260         1205.5568                6      1.609438  \n",
      "938261         1205.5568                6      2.079442  \n",
      "938262         1323.9597               36      2.079442  \n",
      "938264         1313.1958               37      1.609438  \n",
      "\n",
      "[844396 rows x 13 columns]\n"
     ]
    }
   ],
   "source": [
    "#use ordinal encoder to convert categorical data into numerical data.\n",
    "from sklearn.preprocessing import OrdinalEncoder\n",
    "OE = OrdinalEncoder(handle_unknown='use_encoded_value', unknown_value=-1)\n",
    "\n",
    "df['town'] = OE.fit_transform(df[['town']])\n",
    "print(df)\n",
    "OE1 = OrdinalEncoder(handle_unknown='use_encoded_value', unknown_value=-1)\n",
    "df['flat_type'] = OE1.fit_transform(df[['flat_type']])\n",
    "\n",
    "OE2 = OrdinalEncoder(handle_unknown='use_encoded_value', unknown_value=-1)\n",
    "df['block'] = OE2.fit_transform(df[['block']])\n",
    "\n",
    "\n",
    "OE4 = OrdinalEncoder(handle_unknown='use_encoded_value', unknown_value=-1)\n",
    "df['flat_model'] = OE4.fit_transform(df[['flat_model']])\n"
   ]
  },
  {
   "cell_type": "code",
   "execution_count": 1441,
   "id": "7ad135ed-5a3d-407c-ae0f-0ef480d5497c",
   "metadata": {},
   "outputs": [
    {
     "data": {
      "text/plain": [
       "town\n",
       "23.0    78193\n",
       "26.0    69088\n",
       "13.0    63799\n",
       "1.0     62798\n",
       "25.0    61714\n",
       "0.0     48992\n",
       "11.0    48980\n",
       "3.0     42168\n",
       "8.0     37712\n",
       "17.0    31586\n",
       "21.0    31142\n",
       "5.0     26313\n",
       "9.0     25839\n",
       "4.0     24522\n",
       "12.0    23128\n",
       "24.0    22770\n",
       "22.0    21987\n",
       "14.0    20997\n",
       "10.0    20478\n",
       "18.0    20251\n",
       "2.0     19266\n",
       "19.0    15618\n",
       "20.0    13728\n",
       "16.0     6082\n",
       "7.0      5103\n",
       "6.0      2078\n",
       "15.0       64\n",
       "Name: count, dtype: int64"
      ]
     },
     "execution_count": 1441,
     "metadata": {},
     "output_type": "execute_result"
    }
   ],
   "source": [
    "df['town'].value_counts()"
   ]
  },
  {
   "cell_type": "code",
   "execution_count": 1442,
   "id": "885e606c-59b2-4053-8dd4-fdf64bc23742",
   "metadata": {},
   "outputs": [
    {
     "data": {
      "text/plain": [
       "flat_type\n",
       "2.0    344874\n",
       "1.0    266956\n",
       "3.0    179157\n",
       "4.0     51930\n",
       "0.0      1352\n",
       "5.0       127\n",
       "Name: count, dtype: int64"
      ]
     },
     "execution_count": 1442,
     "metadata": {},
     "output_type": "execute_result"
    }
   ],
   "source": [
    "df['flat_type'].value_counts()"
   ]
  },
  {
   "cell_type": "code",
   "execution_count": 1443,
   "id": "b4d190cc-d0c4-47a5-b45e-7abb4800644b",
   "metadata": {},
   "outputs": [
    {
     "data": {
      "text/plain": [
       "block\n",
       "375.0     3523\n",
       "0.0       3366\n",
       "3.0       3116\n",
       "53.0      3106\n",
       "32.0      3000\n",
       "          ... \n",
       "2693.0       1\n",
       "2707.0       1\n",
       "68.0         1\n",
       "496.0        1\n",
       "1764.0       1\n",
       "Name: count, Length: 2708, dtype: int64"
      ]
     },
     "execution_count": 1443,
     "metadata": {},
     "output_type": "execute_result"
    }
   ],
   "source": [
    "df['block'].value_counts()"
   ]
  },
  {
   "cell_type": "code",
   "execution_count": 1444,
   "id": "044e2ebe-db7d-421f-8cff-82f53de06171",
   "metadata": {},
   "outputs": [
    {
     "data": {
      "text/plain": [
       "street_name\n",
       "YISHUN RING RD        17456\n",
       "BEDOK RESERVOIR RD    14143\n",
       "ANG MO KIO AVE 10     13135\n",
       "ANG MO KIO AVE 3      11658\n",
       "HOUGANG AVE 8          9135\n",
       "                      ...  \n",
       "OUTRAM HILL               8\n",
       "SENGKANG WEST RD          4\n",
       "MARINE PARADE CTRL        3\n",
       "ALJUNIED AVE 2            1\n",
       "TAMPINES NTH DR 1         1\n",
       "Name: count, Length: 583, dtype: int64"
      ]
     },
     "execution_count": 1444,
     "metadata": {},
     "output_type": "execute_result"
    }
   ],
   "source": [
    "df['street_name'].value_counts()"
   ]
  },
  {
   "cell_type": "code",
   "execution_count": 1445,
   "id": "84b9d47b-7706-40dc-8b7b-cad8e43623d2",
   "metadata": {},
   "outputs": [
    {
     "data": {
      "text/plain": [
       "flat_model\n",
       "8.0     255192\n",
       "5.0     217362\n",
       "12.0    189100\n",
       "16.0     57946\n",
       "13.0     45068\n",
       "3.0      27488\n",
       "7.0      20487\n",
       "17.0     16650\n",
       "10.0     10274\n",
       "4.0       2156\n",
       "9.0       1614\n",
       "2.0        315\n",
       "18.0       219\n",
       "19.0       133\n",
       "11.0       127\n",
       "6.0         90\n",
       "20.0        63\n",
       "15.0        46\n",
       "1.0         27\n",
       "0.0         26\n",
       "14.0        13\n",
       "Name: count, dtype: int64"
      ]
     },
     "execution_count": 1445,
     "metadata": {},
     "output_type": "execute_result"
    }
   ],
   "source": [
    "df['flat_model'].value_counts()"
   ]
  },
  {
   "cell_type": "code",
   "execution_count": 1446,
   "id": "878142f7-4d61-4334-8eb6-f27b73459774",
   "metadata": {},
   "outputs": [
    {
     "data": {
      "text/plain": [
       "block\n",
       "375.0     3523\n",
       "0.0       3366\n",
       "3.0       3116\n",
       "53.0      3106\n",
       "32.0      3000\n",
       "          ... \n",
       "2693.0       1\n",
       "2707.0       1\n",
       "68.0         1\n",
       "496.0        1\n",
       "1764.0       1\n",
       "Name: count, Length: 2708, dtype: int64"
      ]
     },
     "execution_count": 1446,
     "metadata": {},
     "output_type": "execute_result"
    }
   ],
   "source": [
    "df['block'].value_counts()"
   ]
  },
  {
   "cell_type": "code",
   "execution_count": 1447,
   "id": "93170c1f-522e-402e-9bf3-ce68edf8b25e",
   "metadata": {},
   "outputs": [
    {
     "data": {
      "text/plain": [
       "month                    int64\n",
       "town                   float64\n",
       "flat_type              float64\n",
       "block                  float64\n",
       "street_name             object\n",
       "flat_model             float64\n",
       "lease_commence_date    float64\n",
       "resale_price           float64\n",
       "remaining_lease        float64\n",
       "year                     int64\n",
       "floor_area_sq_ft       float64\n",
       "age_of_property          int64\n",
       "Floor_median           float64\n",
       "dtype: object"
      ]
     },
     "execution_count": 1447,
     "metadata": {},
     "output_type": "execute_result"
    }
   ],
   "source": [
    "df.dtypes"
   ]
  },
  {
   "cell_type": "code",
   "execution_count": 1448,
   "id": "43cdfdae-4320-478d-be00-f98c5a72b1bd",
   "metadata": {},
   "outputs": [
    {
     "data": {
      "image/png": "[encoded data removed]",
      "text/plain": [
       "<Figure size 640x480 with 2 Axes>"
      ]
     },
     "metadata": {},
     "output_type": "display_data"
    }
   ],
   "source": [
    "sns.heatmap(df.drop(['street_name'], axis=1).corr(), cmap='coolwarm', annot=True)\n",
    "plt.show()"
   ]
  },
  {
   "cell_type": "code",
   "execution_count": 1449,
   "id": "3bf95530-ac0b-4c9c-9e5c-9cc1f8aada6d",
   "metadata": {},
   "outputs": [],
   "source": [
    "## Regression modelling"
   ]
  },
  {
   "cell_type": "code",
   "execution_count": 1450,
   "id": "2760de1a-614a-4bed-86ef-8f09cd546514",
   "metadata": {},
   "outputs": [
    {
     "data": {
      "text/plain": [
       "Index(['month', 'town', 'flat_type', 'block', 'street_name', 'flat_model',\n",
       "       'lease_commence_date', 'resale_price', 'remaining_lease', 'year',\n",
       "       'floor_area_sq_ft', 'age_of_property', 'Floor_median'],\n",
       "      dtype='object')"
      ]
     },
     "execution_count": 1450,
     "metadata": {},
     "output_type": "execute_result"
    }
   ],
   "source": [
    "df.columns"
   ]
  },
  {
   "cell_type": "code",
   "execution_count": 1451,
   "id": "feeb130b-3067-4d79-b173-4d1ec6b00a33",
   "metadata": {},
   "outputs": [],
   "source": [
    "#split data into X, y\n",
    "x=df[[ 'town','flat_type', 'block', 'flat_model','lease_commence_date', 'remaining_lease', 'floor_area_sq_ft', 'age_of_property', 'Floor_median']]\n",
    "y=df['resale_price']"
   ]
  },
  {
   "cell_type": "code",
   "execution_count": null,
   "id": "5d28e8fc-d728-468a-b63a-408ebab98a37",
   "metadata": {},
   "outputs": [],
   "source": []
  },
  {
   "cell_type": "code",
   "execution_count": 1452,
   "id": "892335c9-37e7-46b7-91a7-fbcd73f5207d",
   "metadata": {},
   "outputs": [
    {
     "data": {
      "text/plain": [
       "array([[-1.54620505, -1.14936313, -0.87739341, ..., -0.96549954,\n",
       "        -0.31155715, -0.28960271],\n",
       "       [-1.54620505, -1.14936313, -0.89943521, ..., -1.21929088,\n",
       "        -0.41295913, -1.69375823],\n",
       "       [-1.54620505, -1.14936313, -0.95389144, ..., -1.21929088,\n",
       "        -0.41295913,  0.43064705],\n",
       "       ...,\n",
       "       [ 1.38593125,  1.11256247,  0.48012254, ...,  0.68414416,\n",
       "        -1.12277302,  0.43064705],\n",
       "       [ 1.38593125,  1.11256247,  0.97671147, ...,  1.14942828,\n",
       "         1.9192865 ,  0.43064705],\n",
       "       [ 1.38593125,  1.11256247,  1.73650549, ...,  1.10712973,\n",
       "         2.02068848, -0.28960271]])"
      ]
     },
     "execution_count": 1452,
     "metadata": {},
     "output_type": "execute_result"
    }
   ],
   "source": [
    "from sklearn.preprocessing import StandardScaler\n",
    "scaler = StandardScaler()\n",
    "scaler.fit(x)\n",
    "scaler.transform(x)"
   ]
  },
  {
   "cell_type": "code",
   "execution_count": 1453,
   "id": "28d5b527-ddc7-4bef-9ccb-f3e822eed8e1",
   "metadata": {},
   "outputs": [
    {
     "data": {
      "text/plain": [
       "(844396, 13)"
      ]
     },
     "execution_count": 1453,
     "metadata": {},
     "output_type": "execute_result"
    }
   ],
   "source": [
    "df.shape"
   ]
  },
  {
   "cell_type": "code",
   "execution_count": 1506,
   "id": "0a41ef54-16fb-456a-ac21-16f8aa62a6d6",
   "metadata": {},
   "outputs": [],
   "source": [
    "x_train, x_test, y_train, y_test = train_test_split(x,y, test_size = 0.3,random_state=122)"
   ]
  },
  {
   "cell_type": "code",
   "execution_count": 1507,
   "id": "98bfd146-3b85-4fe3-b740-e34551047cd9",
   "metadata": {},
   "outputs": [
    {
     "data": {
      "text/html": [
       "<div>\n",
       "<style scoped>\n",
       "    .dataframe tbody tr th:only-of-type {\n",
       "        vertical-align: middle;\n",
       "    }\n",
       "\n",
       "    .dataframe tbody tr th {\n",
       "        vertical-align: top;\n",
       "    }\n",
       "\n",
       "    .dataframe thead th {\n",
       "        text-align: right;\n",
       "    }\n",
       "</style>\n",
       "<table border=\"1\" class=\"dataframe\">\n",
       "  <thead>\n",
       "    <tr style=\"text-align: right;\">\n",
       "      <th></th>\n",
       "      <th>town</th>\n",
       "      <th>flat_type</th>\n",
       "      <th>block</th>\n",
       "      <th>flat_model</th>\n",
       "      <th>lease_commence_date</th>\n",
       "      <th>remaining_lease</th>\n",
       "      <th>floor_area_sq_ft</th>\n",
       "      <th>age_of_property</th>\n",
       "      <th>Floor_median</th>\n",
       "    </tr>\n",
       "  </thead>\n",
       "  <tbody>\n",
       "    <tr>\n",
       "      <th>259410</th>\n",
       "      <td>11.0</td>\n",
       "      <td>4.0</td>\n",
       "      <td>1618.0</td>\n",
       "      <td>7.0</td>\n",
       "      <td>7.596894</td>\n",
       "      <td>92.0</td>\n",
       "      <td>1614.5850</td>\n",
       "      <td>7</td>\n",
       "      <td>2.397895</td>\n",
       "    </tr>\n",
       "    <tr>\n",
       "      <th>209282</th>\n",
       "      <td>1.0</td>\n",
       "      <td>1.0</td>\n",
       "      <td>1106.0</td>\n",
       "      <td>5.0</td>\n",
       "      <td>7.587817</td>\n",
       "      <td>75.0</td>\n",
       "      <td>785.7647</td>\n",
       "      <td>24</td>\n",
       "      <td>2.079442</td>\n",
       "    </tr>\n",
       "    <tr>\n",
       "      <th>283308</th>\n",
       "      <td>19.0</td>\n",
       "      <td>1.0</td>\n",
       "      <td>686.0</td>\n",
       "      <td>17.0</td>\n",
       "      <td>7.585789</td>\n",
       "      <td>70.0</td>\n",
       "      <td>602.7784</td>\n",
       "      <td>29</td>\n",
       "      <td>1.609438</td>\n",
       "    </tr>\n",
       "    <tr>\n",
       "      <th>338135</th>\n",
       "      <td>9.0</td>\n",
       "      <td>1.0</td>\n",
       "      <td>2162.0</td>\n",
       "      <td>12.0</td>\n",
       "      <td>7.590852</td>\n",
       "      <td>78.0</td>\n",
       "      <td>882.6398</td>\n",
       "      <td>21</td>\n",
       "      <td>2.079442</td>\n",
       "    </tr>\n",
       "    <tr>\n",
       "      <th>550437</th>\n",
       "      <td>8.0</td>\n",
       "      <td>4.0</td>\n",
       "      <td>1745.0</td>\n",
       "      <td>7.0</td>\n",
       "      <td>7.598900</td>\n",
       "      <td>87.0</td>\n",
       "      <td>1582.2933</td>\n",
       "      <td>12</td>\n",
       "      <td>1.609438</td>\n",
       "    </tr>\n",
       "  </tbody>\n",
       "</table>\n",
       "</div>"
      ],
      "text/plain": [
       "        town  flat_type   block  flat_model  lease_commence_date  \\\n",
       "259410  11.0        4.0  1618.0         7.0             7.596894   \n",
       "209282   1.0        1.0  1106.0         5.0             7.587817   \n",
       "283308  19.0        1.0   686.0        17.0             7.585789   \n",
       "338135   9.0        1.0  2162.0        12.0             7.590852   \n",
       "550437   8.0        4.0  1745.0         7.0             7.598900   \n",
       "\n",
       "        remaining_lease  floor_area_sq_ft  age_of_property  Floor_median  \n",
       "259410             92.0         1614.5850                7      2.397895  \n",
       "209282             75.0          785.7647               24      2.079442  \n",
       "283308             70.0          602.7784               29      1.609438  \n",
       "338135             78.0          882.6398               21      2.079442  \n",
       "550437             87.0         1582.2933               12      1.609438  "
      ]
     },
     "execution_count": 1507,
     "metadata": {},
     "output_type": "execute_result"
    }
   ],
   "source": [
    "x_train.head()"
   ]
  },
  {
   "cell_type": "code",
   "execution_count": 1508,
   "id": "6790dd53-6253-43f4-b408-bfbceb0372dd",
   "metadata": {},
   "outputs": [
    {
     "data": {
      "text/plain": [
       "(591077, 9)"
      ]
     },
     "execution_count": 1508,
     "metadata": {},
     "output_type": "execute_result"
    }
   ],
   "source": [
    "x_train.shape"
   ]
  },
  {
   "cell_type": "code",
   "execution_count": 1489,
   "id": "5c95665c-78ec-446c-9f7a-1e60518afad3",
   "metadata": {},
   "outputs": [
    {
     "data": {
      "text/plain": [
       "(168880, 9)"
      ]
     },
     "execution_count": 1489,
     "metadata": {},
     "output_type": "execute_result"
    }
   ],
   "source": [
    "x_test.shape"
   ]
  },
  {
   "cell_type": "code",
   "execution_count": 1490,
   "id": "6fcae345-aad9-4ff2-9658-d74ff7c8f13e",
   "metadata": {},
   "outputs": [
    {
     "data": {
      "text/plain": [
       "(675516,)"
      ]
     },
     "execution_count": 1490,
     "metadata": {},
     "output_type": "execute_result"
    }
   ],
   "source": [
    "y_train.shape"
   ]
  },
  {
   "cell_type": "code",
   "execution_count": 1491,
   "id": "899db886-3636-4f5e-be98-17df649f4e6e",
   "metadata": {},
   "outputs": [
    {
     "data": {
      "text/plain": [
       "(168880,)"
      ]
     },
     "execution_count": 1491,
     "metadata": {},
     "output_type": "execute_result"
    }
   ],
   "source": [
    "y_test.shape"
   ]
  },
  {
   "cell_type": "code",
   "execution_count": 1365,
   "id": "7903ce81-6dcc-47b1-90fb-76cae051fea1",
   "metadata": {},
   "outputs": [
    {
     "name": "stdout",
     "output_type": "stream",
     "text": [
      "RMSE: (0.28084556884247336, 0.2821946621780767)\n",
      "R2: (0.7610918564119115, 0.7599778849263977)\n"
     ]
    }
   ],
   "source": [
    "\n",
    "lin = LinearRegression()\n",
    "lin.fit(x_train, y_train)\n",
    "train_pred = lin.predict(x_train)\n",
    "mse_train = math.sqrt(mean_squared_error(y_train, train_pred))\n",
    "pred = lin.predict(x_test)\n",
    "mse_test = math.sqrt(mean_squared_error(y_test, pred))\n",
    "r2_train = r2_score(y_train, train_pred)\n",
    "r2_test = r2_score(y_test, pred)\n",
    "print(f'RMSE: {mse_train, mse_test}')\n",
    "print(f'R2: {r2_train, r2_test}')"
   ]
  },
  {
   "cell_type": "code",
   "execution_count": 1366,
   "id": "c123011d-a077-451f-949f-006f22a08384",
   "metadata": {},
   "outputs": [
    {
     "name": "stdout",
     "output_type": "stream",
     "text": [
      "RMSE: (0.038058243828842035, 0.11576289722786869)\n",
      "R2: (0.995612740833382, 0.9596082709869125)\n"
     ]
    }
   ],
   "source": [
    "from sklearn.tree import DecisionTreeRegressor\n",
    "import sklearn\n",
    "dc_r = DecisionTreeRegressor()\n",
    "dc_r.fit(x_train, y_train)\n",
    "train_pred = dc_r.predict(x_train)\n",
    "mse_train = math.sqrt(mean_squared_error(y_train, train_pred))\n",
    "pred = dc_r.predict(x_test)\n",
    "mse_test = math.sqrt(mean_squared_error(y_test, pred))\n",
    "r2_train = r2_score(y_train, train_pred)\n",
    "r2_test = r2_score(y_test, pred)\n",
    "print(f'RMSE: {mse_train, mse_test}')\n",
    "print(f'R2: {r2_train, r2_test}')"
   ]
  },
  {
   "cell_type": "code",
   "execution_count": 1509,
   "id": "6cafe17a-e28c-4020-98cf-423d91e061df",
   "metadata": {},
   "outputs": [
    {
     "name": "stdout",
     "output_type": "stream",
     "text": [
      "RMSE: (0.14292353352739623, 0.14546097540210107)\n",
      "R2: (0.9321795396879707, 0.9293537659478336)\n"
     ]
    }
   ],
   "source": [
    "dc_ = DecisionTreeRegressor(max_depth= 12, min_samples_split= 8)\n",
    "dc_.fit(x_train, y_train)\n",
    "train_pred = dc_.predict(x_train)\n",
    "mse_train = math.sqrt(mean_squared_error(y_train, train_pred))\n",
    "pred = dc_.predict(x_test)\n",
    "mse_test = math.sqrt(mean_squared_error(y_test, pred))\n",
    "r2_train = r2_score(y_train, train_pred)\n",
    "r2_test = r2_score(y_test, pred)\n",
    "print(f'RMSE: {mse_train, mse_test}')\n",
    "print(f'R2: {r2_train, r2_test}')"
   ]
  },
  {
   "cell_type": "code",
   "execution_count": 1510,
   "id": "d5dcdf72-523b-412f-9211-9a1f5ade7147",
   "metadata": {},
   "outputs": [
    {
     "data": {
      "text/plain": [
       "array([12.49956208, 13.16048102, 13.04535104, ..., 12.78500749,\n",
       "       12.4010679 , 12.94891315])"
      ]
     },
     "execution_count": 1510,
     "metadata": {},
     "output_type": "execute_result"
    }
   ],
   "source": [
    "pred"
   ]
  },
  {
   "cell_type": "code",
   "execution_count": 719,
   "id": "140637e4-9422-46b6-a75d-e56559b3ca15",
   "metadata": {},
   "outputs": [
    {
     "data": {
      "text/plain": [
       "611972    13.102161\n",
       "80577     12.810389\n",
       "662638    12.989974\n",
       "286432    12.337101\n",
       "124274    13.049793\n",
       "            ...    \n",
       "570797    12.691580\n",
       "178256    12.283034\n",
       "452250    12.468437\n",
       "381749    12.923912\n",
       "290501    12.560244\n",
       "Name: resale_price, Length: 201461, dtype: float64"
      ]
     },
     "execution_count": 719,
     "metadata": {},
     "output_type": "execute_result"
    }
   ],
   "source": [
    "y_test"
   ]
  },
  {
   "cell_type": "code",
   "execution_count": 1465,
   "id": "12af0d1c-41ce-455c-95c0-1ab622d1b91f",
   "metadata": {},
   "outputs": [
    {
     "name": "stdout",
     "output_type": "stream",
     "text": [
      "{'max_depth': 12, 'min_samples_split': 8}\n"
     ]
    }
   ],
   "source": [
    "from sklearn.model_selection import GridSearchCV\n",
    "Ss = {'max_depth': [3,4,7,9,10,12,14,16, 20,24,26], 'min_samples_split': [4,6,8,10,12]}\n",
    "grid = GridSearchCV(dc_r, param_grid=Ss, cv=5)\n",
    "grid_search = grid.fit(x,y)\n",
    "print(grid_search.best_params_)"
   ]
  },
  {
   "cell_type": "code",
   "execution_count": 1482,
   "id": "79f94c67-8bea-429f-a8d3-a7b7803ff7ce",
   "metadata": {},
   "outputs": [
    {
     "name": "stdout",
     "output_type": "stream",
     "text": [
      "RMSE: (0.1336787434845044, 0.1359191068216302)\n",
      "R2: (0.9405281182386562, 0.9387313210229415)\n"
     ]
    }
   ],
   "source": [
    "rf = RandomForestRegressor(max_depth= 12, min_samples_split= 8)\n",
    "rf.fit(x_train, y_train)\n",
    "train_pred = rf.predict(x_train)\n",
    "mse_train = math.sqrt(mean_squared_error(y_train, train_pred))\n",
    "pred = rf.predict(x_test)\n",
    "mse_test = math.sqrt(mean_squared_error(y_test, pred))\n",
    "r2_train = r2_score(y_train, train_pred)\n",
    "r2_test = r2_score(y_test, pred)\n",
    "print(f'RMSE: {mse_train, mse_test}')\n",
    "print(f'R2: {r2_train, r2_test}')"
   ]
  },
  {
   "cell_type": "code",
   "execution_count": 1483,
   "id": "7e9a7389-11c5-4794-9775-a83a95931ee2",
   "metadata": {},
   "outputs": [
    {
     "data": {
      "text/plain": [
       "array([11.85962555, 12.85973774, 11.9596618 , ..., 12.86295886,\n",
       "       12.11277181, 13.10033288])"
      ]
     },
     "execution_count": 1483,
     "metadata": {},
     "output_type": "execute_result"
    }
   ],
   "source": [
    "pred"
   ]
  },
  {
   "cell_type": "code",
   "execution_count": 710,
   "id": "9f502a10-482a-4c1e-b79a-18b9d5d26606",
   "metadata": {},
   "outputs": [
    {
     "name": "stdout",
     "output_type": "stream",
     "text": [
      "RMSE: (0.27401387312629505, 0.27433441916737533)\n",
      "R2: (0.7213338951098734, 0.721533731437114)\n"
     ]
    }
   ],
   "source": [
    "from sklearn.linear_model import Lasso, Ridge\n",
    "rid = Ridge(alpha = 1)\n",
    "rid.fit(x_train, y_train)\n",
    "train_pred = rid.predict(x_train)\n",
    "mse_train = math.sqrt(mean_squared_error(y_train, train_pred))\n",
    "pred = rid.predict(x_test)\n",
    "mse_test = math.sqrt(mean_squared_error(y_test, pred))\n",
    "r2_train = r2_score(y_train, train_pred)\n",
    "r2_test = r2_score(y_test, pred)\n",
    "print(f'RMSE: {mse_train, mse_test}')\n",
    "print(f'R2: {r2_train, r2_test}')"
   ]
  },
  {
   "cell_type": "code",
   "execution_count": 718,
   "id": "791be371-db46-44ed-bed5-406e93eec2d3",
   "metadata": {},
   "outputs": [
    {
     "name": "stdout",
     "output_type": "stream",
     "text": [
      "RMSE: (0.3948618098160981, 0.39507299062355)\n",
      "R2: (0.4213322117283307, 0.42248046882765544)\n"
     ]
    }
   ],
   "source": [
    "rlass = Lasso(alpha = 12)\n",
    "rlass.fit(x_train, y_train)\n",
    "train_pred = rlass.predict(x_train)\n",
    "mse_train = math.sqrt(mean_squared_error(y_train, train_pred))\n",
    "pred = rlass.predict(x_test)\n",
    "mse_test = math.sqrt(mean_squared_error(y_test, pred))\n",
    "r2_train = r2_score(y_train, train_pred)\n",
    "r2_test = r2_score(y_test, pred)\n",
    "print(f'RMSE: {mse_train, mse_test}')\n",
    "print(f'R2: {r2_train, r2_test}')"
   ]
  },
  {
   "cell_type": "code",
   "execution_count": null,
   "id": "79bc7d10-64ae-4a9d-9f23-83dbc8aea0c0",
   "metadata": {},
   "outputs": [],
   "source": []
  },
  {
   "cell_type": "code",
   "execution_count": 1511,
   "id": "e42cea27-af27-49c7-b6cf-b7df417cb83c",
   "metadata": {},
   "outputs": [
    {
     "name": "stdout",
     "output_type": "stream",
     "text": [
      "[11.03260825]\n",
      "[61858.71346146]\n"
     ]
    }
   ],
   "source": [
    "# Predict the status for a new sample\n",
    "\n",
    "input_data = {\n",
    "  \n",
    "   'town': ['ANG MO KIO'],\n",
    "   'flat_type': ['3 ROOM'],\n",
    "   'block': ['557'],\n",
    "   'flat_model': ['New Generation'],\n",
    "   'lease_commence_date': [1980],\n",
    "   'remaining_lease': [64.0],\n",
    "   'floor_area_sq_ft': [690.6809],\n",
    "   'age_of_property': [35],\n",
    "   'Floor_median': [8]       \n",
    "}\n",
    "\n",
    "input_data = pd.DataFrame(input_data)\n",
    "\n",
    "#use ordinal encoder to convert categorical data into numerical data.\n",
    "\n",
    "input_data['town'] = OE.transform(input_data[['town']])\n",
    "\n",
    "\n",
    "input_data['flat_type'] = OE1.transform(input_data[['flat_type']])\n",
    "\n",
    "input_data['block'] = OE2.transform(input_data[['block']])\n",
    "\n",
    "input_data['flat_model'] = OE4.transform(input_data[['flat_model']])\n",
    "\n",
    "\n",
    "input_data['lease_commence_date'] = np.log(input_data['lease_commence_date'])\n",
    "\n",
    "input_data['remaining_lease'] = np.log(input_data['remaining_lease'])\n",
    "\n",
    "\n",
    "\n",
    "input_data_=input_data[['town', 'flat_type', 'block', 'flat_model','lease_commence_date', 'remaining_lease', 'floor_area_sq_ft', 'age_of_property', 'Floor_median']]\n",
    "\n",
    "input_data_s = scaler.transform(input_data_)     \n",
    "new_pred = dc_.predict(input_data_s)\n",
    "print(new_pred)\n",
    "print(np.exp(new_pred))\n"
   ]
  },
  {
   "cell_type": "code",
   "execution_count": 1512,
   "id": "51ce69c7-9be3-449c-b449-1fbbaa28f2f3",
   "metadata": {},
   "outputs": [
    {
     "name": "stdout",
     "output_type": "stream",
     "text": [
      "[11.06415211]\n",
      "[63841.0773662]\n"
     ]
    }
   ],
   "source": [
    "# Predict the status for a new sample\n",
    "\n",
    "input_data = {\n",
    "  \n",
    "   'town': ['ANG MO KIO'],\n",
    "   'flat_type': ['3 ROOM'],\n",
    "   'block': ['212'],\n",
    "   'flat_model': ['New Generation'],\n",
    "   'lease_commence_date': [1977],\n",
    "   'remaining_lease': [67.0],\n",
    "   'floor_area_sq_ft': [690.6809],\n",
    "   'age_of_property': [35],\n",
    "   'Floor_median': [3]       \n",
    "}\n",
    "\n",
    "input_data = pd.DataFrame(input_data)\n",
    "\n",
    "#use ordinal encoder to convert categorical data into numerical data.\n",
    "\n",
    "input_data['town'] = OE.transform(input_data[['town']])\n",
    "\n",
    "\n",
    "input_data['flat_type'] = OE1.transform(input_data[['flat_type']])\n",
    "\n",
    "input_data['block'] = OE2.transform(input_data[['block']])\n",
    "\n",
    "input_data['flat_model'] = OE4.transform(input_data[['flat_model']])\n",
    "\n",
    "\n",
    "input_data['lease_commence_date'] = np.log(input_data['lease_commence_date'])\n",
    "\n",
    "input_data['remaining_lease'] = np.log(input_data['remaining_lease'])\n",
    "\n",
    "\n",
    "\n",
    "input_data_=input_data[['town', 'flat_type', 'block', 'flat_model','lease_commence_date', 'remaining_lease', 'floor_area_sq_ft', 'age_of_property', 'Floor_median']]\n",
    "\n",
    "input_data_s = scaler.transform(input_data_)     \n",
    "new_pred = rf.predict(input_data_s)\n",
    "print(new_pred)\n",
    "print(np.exp(new_pred))\n"
   ]
  },
  {
   "cell_type": "code",
   "execution_count": 1513,
   "id": "20c16cda-9695-4d84-b9d7-2d20a3b6108b",
   "metadata": {},
   "outputs": [],
   "source": [
    "file_path = 'C:/Users/rajij/Streamlit_Home Page/Singapore flat resale model/dcr.pkl'\n",
    "\n",
    "with open(file_path, 'wb') as file:\n",
    "    pickle.dump(dc_, file)\n",
    "\n",
    "with open('C:/Users/rajij/Streamlit_Home Page/Singapore flat resale model/OE.pkl', 'wb') as file:\n",
    "    pickle.dump(OE, file)\n",
    "\n",
    "with open('C:/Users/rajij/Streamlit_Home Page/Singapore flat resale model/OE1.pkl', 'wb') as file:\n",
    "    pickle.dump(OE1, file)\n",
    "\n",
    "with open('C:/Users/rajij/Streamlit_Home Page/Singapore flat resale model/OE2.pkl', 'wb') as file:\n",
    "    pickle.dump(OE2, file)\n",
    "\n",
    "with open('C:/Users/rajij/Streamlit_Home Page/Singapore flat resale model/OE4.pkl', 'wb') as file:\n",
    "    pickle.dump(OE4, file)\n",
    "    \n",
    "with open('C:/Users/rajij/Streamlit_Home Page/Singapore flat resale model/scaler.pkl', 'wb') as file:\n",
    "    pickle.dump(scaler, file)"
   ]
  },
  {
   "cell_type": "code",
   "execution_count": null,
   "id": "e9adb33c-6b82-4c20-a032-9ec3f8540a61",
   "metadata": {},
   "outputs": [],
   "source": []
  },
  {
   "cell_type": "code",
   "execution_count": null,
   "id": "5f620bca-1cf8-4d91-b2b9-fc1a4ba827bb",
   "metadata": {},
   "outputs": [],
   "source": []
  }
 ],
 "metadata": {
  "kernelspec": {
   "display_name": "Python 3 (ipykernel)",
   "language": "python",
   "name": "python3"
  },
  "language_info": {
   "codemirror_mode": {
    "name": "ipython",
    "version": 3
   },
   "file_extension": ".py",
   "mimetype": "text/x-python",
   "name": "python",
   "nbconvert_exporter": "python",
   "pygments_lexer": "ipython3",
   "version": "3.11.7"
  }
 },
 "nbformat": 4,
 "nbformat_minor": 5
}
